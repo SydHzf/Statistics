{
 "cells": [
  {
   "cell_type": "code",
   "execution_count": 1,
   "metadata": {},
   "outputs": [],
   "source": [
    "import numpy as np\n",
    "import pandas as pd\n",
    "import matplotlib.pyplot as plt"
   ]
  },
  {
   "cell_type": "code",
   "execution_count": 2,
   "metadata": {},
   "outputs": [
    {
     "data": {
      "text/html": [
       "<div>\n",
       "<style scoped>\n",
       "    .dataframe tbody tr th:only-of-type {\n",
       "        vertical-align: middle;\n",
       "    }\n",
       "\n",
       "    .dataframe tbody tr th {\n",
       "        vertical-align: top;\n",
       "    }\n",
       "\n",
       "    .dataframe thead th {\n",
       "        text-align: right;\n",
       "    }\n",
       "</style>\n",
       "<table border=\"1\" class=\"dataframe\">\n",
       "  <thead>\n",
       "    <tr style=\"text-align: right;\">\n",
       "      <th></th>\n",
       "      <th>id</th>\n",
       "      <th>title</th>\n",
       "      <th>url</th>\n",
       "      <th>num_points</th>\n",
       "      <th>num_comments</th>\n",
       "      <th>author</th>\n",
       "      <th>created_at</th>\n",
       "    </tr>\n",
       "  </thead>\n",
       "  <tbody>\n",
       "    <tr>\n",
       "      <th>0</th>\n",
       "      <td>12224879</td>\n",
       "      <td>Interactive Dynamic Video</td>\n",
       "      <td>http://www.interactivedynamicvideo.com/</td>\n",
       "      <td>386</td>\n",
       "      <td>52</td>\n",
       "      <td>ne0phyte</td>\n",
       "      <td>8/4/2016 11:52</td>\n",
       "    </tr>\n",
       "    <tr>\n",
       "      <th>1</th>\n",
       "      <td>11964716</td>\n",
       "      <td>Florida DJs May Face Felony for April Fools' W...</td>\n",
       "      <td>http://www.thewire.com/entertainment/2013/04/f...</td>\n",
       "      <td>2</td>\n",
       "      <td>1</td>\n",
       "      <td>vezycash</td>\n",
       "      <td>6/23/2016 22:20</td>\n",
       "    </tr>\n",
       "  </tbody>\n",
       "</table>\n",
       "</div>"
      ],
      "text/plain": [
       "         id                                              title  \\\n",
       "0  12224879                          Interactive Dynamic Video   \n",
       "1  11964716  Florida DJs May Face Felony for April Fools' W...   \n",
       "\n",
       "                                                 url  num_points  \\\n",
       "0            http://www.interactivedynamicvideo.com/         386   \n",
       "1  http://www.thewire.com/entertainment/2013/04/f...           2   \n",
       "\n",
       "   num_comments    author       created_at  \n",
       "0            52  ne0phyte   8/4/2016 11:52  \n",
       "1             1  vezycash  6/23/2016 22:20  "
      ]
     },
     "execution_count": 2,
     "metadata": {},
     "output_type": "execute_result"
    }
   ],
   "source": [
    "hn = pd.read_csv(\"hacker_news.csv\")\n",
    "hn.head(2)"
   ]
  },
  {
   "cell_type": "code",
   "execution_count": 3,
   "metadata": {},
   "outputs": [
    {
     "data": {
      "text/plain": [
       "'Danial'"
      ]
     },
     "execution_count": 3,
     "metadata": {},
     "output_type": "execute_result"
    }
   ],
   "source": [
    "\"I am Danial and I am Trainer\"[5:11]"
   ]
  },
  {
   "cell_type": "code",
   "execution_count": 4,
   "metadata": {},
   "outputs": [
    {
     "data": {
      "text/plain": [
       "'Danial'"
      ]
     },
     "execution_count": 4,
     "metadata": {},
     "output_type": "execute_result"
    }
   ],
   "source": [
    "\"This is Danial and we are Learning R.E\"[8:14]"
   ]
  },
  {
   "cell_type": "code",
   "execution_count": 5,
   "metadata": {},
   "outputs": [
    {
     "data": {
      "text/plain": [
       "True"
      ]
     },
     "execution_count": 5,
     "metadata": {},
     "output_type": "execute_result"
    }
   ],
   "source": [
    "\"Danial\" in \"I am Danial and I am Trainer\""
   ]
  },
  {
   "cell_type": "code",
   "execution_count": 6,
   "metadata": {},
   "outputs": [],
   "source": [
    "import re"
   ]
  },
  {
   "cell_type": "code",
   "execution_count": 7,
   "metadata": {},
   "outputs": [
    {
     "data": {
      "text/plain": [
       "<re.Match object; span=(12, 15), match='and'>"
      ]
     },
     "execution_count": 7,
     "metadata": {},
     "output_type": "execute_result"
    }
   ],
   "source": [
    "re.search(\"and\",\"I have two hands\")"
   ]
  },
  {
   "cell_type": "code",
   "execution_count": 8,
   "metadata": {},
   "outputs": [
    {
     "name": "stdout",
     "output_type": "stream",
     "text": [
      "Done\n"
     ]
    }
   ],
   "source": [
    "if re.search(\"and\",\"I have two hands\"):\n",
    "    print(\"Done\")"
   ]
  },
  {
   "cell_type": "code",
   "execution_count": 9,
   "metadata": {},
   "outputs": [
    {
     "name": "stdout",
     "output_type": "stream",
     "text": [
      "None\n"
     ]
    }
   ],
   "source": [
    "print(re.search(\"abc\",\"I have two hands\"))"
   ]
  },
  {
   "cell_type": "code",
   "execution_count": 10,
   "metadata": {},
   "outputs": [
    {
     "name": "stdout",
     "output_type": "stream",
     "text": [
      "(20099,)\n"
     ]
    },
    {
     "data": {
      "text/plain": [
       "0                            Interactive Dynamic Video\n",
       "1    Florida DJs May Face Felony for April Fools' W...\n",
       "2         Technology ventures: From Idea to Enterprise\n",
       "3    Note by Note: The Making of Steinway L1037 (2007)\n",
       "4    Title II kills investment? Comcast and other I...\n",
       "5                       Nuts and Bolts Business Advice\n",
       "6          Ask HN: How to improve my personal website?\n",
       "7    Shims, Jigs and Other Woodworking Concepts to ...\n",
       "8                               That self-appendectomy\n",
       "9    Crate raises $4M seed round for its next-gen S...\n",
       "Name: title, dtype: object"
      ]
     },
     "execution_count": 10,
     "metadata": {},
     "output_type": "execute_result"
    }
   ],
   "source": [
    "title = hn[\"title\"]\n",
    "print(title.shape)\n",
    "title.head(10)"
   ]
  },
  {
   "cell_type": "code",
   "execution_count": 11,
   "metadata": {},
   "outputs": [
    {
     "data": {
      "text/plain": [
       "<re.Match object; span=(2, 6), match='bend'>"
      ]
     },
     "execution_count": 11,
     "metadata": {},
     "output_type": "execute_result"
    }
   ],
   "source": [
    "\"mend\",\"send\",\"bend\"\n",
    "\n",
    "pattern = \"[msb]end\"\n",
    "\n",
    "re.search(pattern,\"I bend you\")"
   ]
  },
  {
   "cell_type": "code",
   "execution_count": 12,
   "metadata": {},
   "outputs": [
    {
     "data": {
      "text/plain": [
       "160"
      ]
     },
     "execution_count": 12,
     "metadata": {},
     "output_type": "execute_result"
    }
   ],
   "source": [
    "pattern = \"[Pp]ython\" # Python, python\n",
    "\n",
    "title.str.contains(pattern).sum()"
   ]
  },
  {
   "cell_type": "code",
   "execution_count": 13,
   "metadata": {},
   "outputs": [
    {
     "data": {
      "text/plain": [
       "17820    An Introduction to Scientific Python (and a Bi...\n",
       "18207    Feather: A Fast On-Disk Format for Data Frames...\n",
       "18260                     From Python to Go and Back Again\n",
       "18273                       How to kill yourself in Python\n",
       "18312                                  Why Python 3 Exists\n",
       "18421    Show HN: Stack overflow command line client ad...\n",
       "18536    Python one-liner to compare two files (conditi...\n",
       "18649                 Python vs. C/C++ in embedded systems\n",
       "18809        The origins of the class Meta idiom in python\n",
       "19077                           Python is Better than Ruby\n",
       "19163      Web Service Efficiency at Instagram with Python\n",
       "19356         Crypto and SSL toolkit for python (M2Crypto)\n",
       "19419                                       PythonJobs.com\n",
       "19433    Wheres Susi? Airborne Orangutan Tracking with ...\n",
       "19458    Transition to Python4 won't be like Python3(we...\n",
       "19597    David Beazley  Python Concurrency from the Gro...\n",
       "19852      Ask HN: How to automate Python apps deployment?\n",
       "19862                            Moving Away from Python 2\n",
       "19980                        Python vs. Julia Observations\n",
       "19998    Show HN: Decorating: Animated pulsed for your ...\n",
       "Name: title, dtype: object"
      ]
     },
     "execution_count": 13,
     "metadata": {},
     "output_type": "execute_result"
    }
   ],
   "source": [
    "title[title.str.contains(pattern)].tail(20)"
   ]
  },
  {
   "cell_type": "code",
   "execution_count": 14,
   "metadata": {},
   "outputs": [
    {
     "data": {
      "text/plain": [
       "190                    Ruby on Google AppEngine Goes Beta\n",
       "484          Related: Pure Ruby Relational Algebra Engine\n",
       "1388    Show HN: HTTPalooza  Ruby's greatest HTTP clie...\n",
       "1949    Rewriting a Ruby C Extension in Rust: How a Na...\n",
       "2022    Show HN: CrashBreak  Reproduce exceptions as f...\n",
       "2163                  Ruby 2.3 Is Only 4% Faster than 2.2\n",
       "2306    Websocket Shootout: Clojure, C++, Elixir, Go, ...\n",
       "2620                      Why Startups Use Ruby on Rails?\n",
       "2645    Ask HN: Should I continue working a Ruby gem f...\n",
       "3290    Ruby on Rails and the importance of being stup...\n",
       "3749    Telegram.org Bot Platform Webhooks Server, for...\n",
       "3874    Warp Directory (wd) unix command line tool for...\n",
       "4026    OS X 10.11 Ruby / Rails users can install ther...\n",
       "4163    Charles Nutter of JRuby Banned by Rubinius for...\n",
       "4602    Quiz: Ruby or Rails? Matz and DHH were not abl...\n",
       "5832    Show HN: An experimental Python to C#/Go/Ruby/...\n",
       "6180    Shrine  A new solution for handling file uploa...\n",
       "7171    JRuby+Truffle: Why its important to optimise t...\n",
       "7235                                       Ruby or Rails?\n",
       "7671                   How I hunted the most odd ruby bug\n",
       "Name: title, dtype: object"
      ]
     },
     "execution_count": 14,
     "metadata": {},
     "output_type": "execute_result"
    }
   ],
   "source": [
    "pattern = \"[Rr]uby\"\n",
    "\n",
    "title[title.str.contains(pattern)].head(20)"
   ]
  },
  {
   "cell_type": "markdown",
   "metadata": {},
   "source": [
    "1000-2999"
   ]
  },
  {
   "cell_type": "code",
   "execution_count": 15,
   "metadata": {},
   "outputs": [
    {
     "data": {
      "text/plain": [
       "3      Note by Note: The Making of Steinway L1037 (2007)\n",
       "34                      The reverse job applicant (2010)\n",
       "50       Ask HN: Which framework for a CRUD app in 2016?\n",
       "59          2015 in review  1 year after I quit blogging\n",
       "80     Apple Watch Scooped Up Over Half the Smartwatc...\n",
       "150            Classic Nintendo Games Are NP-Hard (2012)\n",
       "165    Adobe Photoshop and 1700s Manuscripts: A New A...\n",
       "184                    Ask HN: What you learned in 2015?\n",
       "223                      The Talent War Revisited (2011)\n",
       "229                      When Good Waves Go Rogue (2014)\n",
       "232    Man who created own credit card sues bank for ...\n",
       "234    US DoD Using 1970s IBM Series/1 and Floppy Dis...\n",
       "253    A small British firm shows that software bugs ...\n",
       "307                  Your web / back end stack for 2016?\n",
       "309              The Box: A Replacement for Files (1999)\n",
       "329    Baby Bust: 2015 had lowest U.S. fertility rate...\n",
       "351                           DNS: Basic Concepts (2013)\n",
       "360    Each Facebook User Represented $10.03 in Ad Re...\n",
       "366    There are no particles, there are only fields ...\n",
       "368                                 Venture Outlook 2016\n",
       "Name: title, dtype: object"
      ]
     },
     "execution_count": 15,
     "metadata": {},
     "output_type": "execute_result"
    }
   ],
   "source": [
    "pattern = \"[12][0-9][0-9][0-9]\"\n",
    "title[title.str.contains(pattern)].head(20)"
   ]
  },
  {
   "cell_type": "markdown",
   "metadata": {},
   "source": [
    "# Numeric Quantifier\n",
    "\n",
    "a{3} -> The character `a` three times\n",
    "\n",
    "a{3,5} ->The character `a` three, four or five times\n",
    "\n",
    "a{,3} ->The character `a` zero, one, two or three times\n",
    "\n",
    "a{8,} ->The character `a` eight or more times"
   ]
  },
  {
   "cell_type": "markdown",
   "metadata": {},
   "source": [
    "# Single Characters Quantifier\n",
    "\n",
    "a* -> equivalent to a{0,} zero or more\n",
    "\n",
    "a+ -> equivalent to a{1,} one or more\n",
    "\n",
    "a? -> equivalent to a{0,1} zero or one"
   ]
  },
  {
   "cell_type": "code",
   "execution_count": 16,
   "metadata": {},
   "outputs": [],
   "source": [
    "pattern = \"sa{3}d\"\n",
    "\n",
    "re.search(pattern,\"saaaad\")"
   ]
  },
  {
   "cell_type": "code",
   "execution_count": 17,
   "metadata": {},
   "outputs": [
    {
     "data": {
      "text/plain": [
       "3      Note by Note: The Making of Steinway L1037 (2007)\n",
       "34                      The reverse job applicant (2010)\n",
       "50       Ask HN: Which framework for a CRUD app in 2016?\n",
       "59          2015 in review  1 year after I quit blogging\n",
       "80     Apple Watch Scooped Up Over Half the Smartwatc...\n",
       "150            Classic Nintendo Games Are NP-Hard (2012)\n",
       "165    Adobe Photoshop and 1700s Manuscripts: A New A...\n",
       "184                    Ask HN: What you learned in 2015?\n",
       "223                      The Talent War Revisited (2011)\n",
       "229                      When Good Waves Go Rogue (2014)\n",
       "232    Man who created own credit card sues bank for ...\n",
       "234    US DoD Using 1970s IBM Series/1 and Floppy Dis...\n",
       "253    A small British firm shows that software bugs ...\n",
       "307                  Your web / back end stack for 2016?\n",
       "309              The Box: A Replacement for Files (1999)\n",
       "329    Baby Bust: 2015 had lowest U.S. fertility rate...\n",
       "351                           DNS: Basic Concepts (2013)\n",
       "360    Each Facebook User Represented $10.03 in Ad Re...\n",
       "366    There are no particles, there are only fields ...\n",
       "368                                 Venture Outlook 2016\n",
       "Name: title, dtype: object"
      ]
     },
     "execution_count": 17,
     "metadata": {},
     "output_type": "execute_result"
    }
   ],
   "source": [
    "pattern = \"[12][0-9]{3}\"\n",
    "title[title.str.contains(pattern)].head(20)"
   ]
  },
  {
   "cell_type": "markdown",
   "metadata": {},
   "source": [
    "# Character classes\n",
    "\n",
    "* `set` ->[fud] either f,u or d\n",
    "* `range` -> [a-e] any of the charachter a,b,c,d or e\n",
    "* `range` -> [0-3] any of the charachter 0,1,2 or 3\n",
    "* `range` -> [A-Z] any uppercase letter\n",
    "* `set+range` -> [A-Za-z] any uppercase or lower case letter[Aa-Zz]\n",
    "* `Digit` -> **`\\d`** any digit character(equivalent to [0-9])\n",
    "* `Word` -> **`\\w`** any digit, uppercase, lowercase or underscore character (equivalent to [A-Za-z0-9_]). Does not include any special character \n",
    "* `Whitepace` -> **`\\s`** any space, tab or linebreak character\n",
    "* `Dot` -> **`.`**  any character or special character except newline"
   ]
  },
  {
   "cell_type": "code",
   "execution_count": 18,
   "metadata": {},
   "outputs": [
    {
     "data": {
      "text/plain": [
       "3      Note by Note: The Making of Steinway L1037 (2007)\n",
       "34                      The reverse job applicant (2010)\n",
       "50       Ask HN: Which framework for a CRUD app in 2016?\n",
       "59          2015 in review  1 year after I quit blogging\n",
       "80     Apple Watch Scooped Up Over Half the Smartwatc...\n",
       "150            Classic Nintendo Games Are NP-Hard (2012)\n",
       "165    Adobe Photoshop and 1700s Manuscripts: A New A...\n",
       "184                    Ask HN: What you learned in 2015?\n",
       "223                      The Talent War Revisited (2011)\n",
       "229                      When Good Waves Go Rogue (2014)\n",
       "232    Man who created own credit card sues bank for ...\n",
       "234    US DoD Using 1970s IBM Series/1 and Floppy Dis...\n",
       "253    A small British firm shows that software bugs ...\n",
       "307                  Your web / back end stack for 2016?\n",
       "309              The Box: A Replacement for Files (1999)\n",
       "329    Baby Bust: 2015 had lowest U.S. fertility rate...\n",
       "351                           DNS: Basic Concepts (2013)\n",
       "360    Each Facebook User Represented $10.03 in Ad Re...\n",
       "366    There are no particles, there are only fields ...\n",
       "368                                 Venture Outlook 2016\n",
       "Name: title, dtype: object"
      ]
     },
     "execution_count": 18,
     "metadata": {},
     "output_type": "execute_result"
    }
   ],
   "source": [
    "pattern = \"[12]\\d{3}\"\n",
    "title[title.str.contains(pattern)].head(20)"
   ]
  },
  {
   "cell_type": "code",
   "execution_count": 19,
   "metadata": {},
   "outputs": [
    {
     "data": {
      "text/plain": [
       "3      Note by Note: The Making of Steinway L1037 (2007)\n",
       "12     Show HN: Wio Link  ESP8266 Based Web of Things...\n",
       "34                      The reverse job applicant (2010)\n",
       "50       Ask HN: Which framework for a CRUD app in 2016?\n",
       "59          2015 in review  1 year after I quit blogging\n",
       "66     Analysis of 114 propaganda sources from ISIS, ...\n",
       "80     Apple Watch Scooped Up Over Half the Smartwatc...\n",
       "103            Ubuntu 16.04 LTS to Ship Without Python 2\n",
       "150            Classic Nintendo Games Are NP-Hard (2012)\n",
       "165    Adobe Photoshop and 1700s Manuscripts: A New A...\n",
       "172    Full Disclosure: WinRAR SFX v5.21  Remote Code...\n",
       "184                    Ask HN: What you learned in 2015?\n",
       "191    How one Silicon Valley engineer negotiated a s...\n",
       "221                 MemSQL (YC W11) Raises $36M Series C\n",
       "223                      The Talent War Revisited (2011)\n",
       "229                      When Good Waves Go Rogue (2014)\n",
       "232    Man who created own credit card sues bank for ...\n",
       "234    US DoD Using 1970s IBM Series/1 and Floppy Dis...\n",
       "253    A small British firm shows that software bugs ...\n",
       "288              A 15-Year Series of Campaign Simulators\n",
       "Name: title, dtype: object"
      ]
     },
     "execution_count": 19,
     "metadata": {},
     "output_type": "execute_result"
    }
   ],
   "source": [
    "pattern = \"[12]\\d+\"\n",
    "title[title.str.contains(pattern)].head(20)"
   ]
  },
  {
   "cell_type": "code",
   "execution_count": 20,
   "metadata": {},
   "outputs": [
    {
     "data": {
      "text/plain": [
       "14881    US Intelligence directors personal e-mail, pho...\n",
       "14935    Ask HN: Anyone else *still* having no email de...\n",
       "14945            How to get benefits from email marketing?\n",
       "15216    Beware: Nylas cloud email retains all emails a...\n",
       "15281    Show HN: Double Your Network (a free, 10-day e...\n",
       "15300    A Humble email alternative app with a stop switch\n",
       "15408    Google has most of my email because it has all...\n",
       "15489    Hillary's IT guy asking Reddit how to cover up...\n",
       "15682    QUESTION: Why does no email have native video?...\n",
       "16152    Avoid committing to GitHub with your company e...\n",
       "16508    State Dept.: Clinton IT aide's email archive i...\n",
       "16794    Turkey blocks access to WikiLeaks after email-...\n",
       "17004    TRACEMAIL: Visualize the path of your emails, ...\n",
       "17415    Microsoft failed to warn victims of Chinese em...\n",
       "17924                 How Clintons email scandal took root\n",
       "18098    House panel looking into Reddit post about Cli...\n",
       "18583    Mailgen  Generates clean, responsive HTML for ...\n",
       "18847    Show HN: Crisp iOS keyboard for email and text...\n",
       "19303    Ask HN: Why big email providers don't sign the...\n",
       "19446    Tell HN: Secure email provider Riseup will run...\n",
       "Name: title, dtype: object"
      ]
     },
     "execution_count": 20,
     "metadata": {},
     "output_type": "execute_result"
    }
   ],
   "source": [
    "\"email\",\"e-mail\"\n",
    "\n",
    "pattern = \"e-?mail\"\n",
    "title[title.str.contains(pattern)].tail(20)"
   ]
  },
  {
   "cell_type": "code",
   "execution_count": 21,
   "metadata": {},
   "outputs": [
    {
     "data": {
      "text/plain": [
       "19063    Andrew Ng on What's Next in Deep Learning [video]\n",
       "19133             PostgreSQL: Linux VS Windows [Benchmark]\n",
       "19162                  The Ultimate Amiga 500 Talk [video]\n",
       "19225    Explore how the periodic table has changed in ...\n",
       "19260    Why Johnny Cant Encrypt: A Usability Evaluatio...\n",
       "19290    Object-Oriented Programming is Garbage: 3800 S...\n",
       "19319    Are fluoride levels in drinking water associat...\n",
       "19364                            The Sound of Code [video]\n",
       "19440         Security without Identification (1985) [pdf]\n",
       "19445    Employees Leave Good Bosses Nearly as Often as...\n",
       "19482       [Challenge] Sorting algorithm with constraints\n",
       "19541    On the Insecurity of Whitelists and the Future...\n",
       "19549                IMP: Indirect Memory Prefetcher [pdf]\n",
       "19583    [Ubuntu]if you do this sudo chmod 777 -R /etc,...\n",
       "19743    Using a Neural Network to Train a Ruby Twitter...\n",
       "19763    TSA can now force you to go through body scann...\n",
       "19867                       Using Pony for Fintech [video]\n",
       "19947                                Swift Reversing [pdf]\n",
       "19979    WSJ/Dowjones Announce Unauthorized Access Betw...\n",
       "20089    Users Really Do Plug in USB Drives They Find [...\n",
       "Name: title, dtype: object"
      ]
     },
     "execution_count": 21,
     "metadata": {},
     "output_type": "execute_result"
    }
   ],
   "source": [
    "# [pdf], [video], [png], [germany] , [A],[9]\n",
    "\n",
    "pattern = \"\\[\\w+\\]\"\n",
    "\n",
    "title[title.str.contains(pattern)].tail(20)"
   ]
  },
  {
   "cell_type": "code",
   "execution_count": 22,
   "metadata": {},
   "outputs": [
    {
     "data": {
      "text/plain": [
       "19225    Explore how the periodic table has changed in ...\n",
       "19260    Why Johnny Cant Encrypt: A Usability Evaluatio...\n",
       "19290    Object-Oriented Programming is Garbage: 3800 S...\n",
       "19319    Are fluoride levels in drinking water associat...\n",
       "19364                            The Sound of Code [video]\n",
       "19440         Security without Identification (1985) [pdf]\n",
       "19443    Zynga Now Worth Less Than Its Own Office Build...\n",
       "19445    Employees Leave Good Bosses Nearly as Often as...\n",
       "19482       [Challenge] Sorting algorithm with constraints\n",
       "19541    On the Insecurity of Whitelists and the Future...\n",
       "19549                IMP: Indirect Memory Prefetcher [pdf]\n",
       "19583    [Ubuntu]if you do this sudo chmod 777 -R /etc,...\n",
       "19724    British journalists twice as likely to be left...\n",
       "19743    Using a Neural Network to Train a Ruby Twitter...\n",
       "19763    TSA can now force you to go through body scann...\n",
       "19867                       Using Pony for Fintech [video]\n",
       "19947                                Swift Reversing [pdf]\n",
       "19975    [FOR GIT USERS] YoLog  Lightweight Wrapper to ...\n",
       "19979    WSJ/Dowjones Announce Unauthorized Access Betw...\n",
       "20089    Users Really Do Plug in USB Drives They Find [...\n",
       "Name: title, dtype: object"
      ]
     },
     "execution_count": 22,
     "metadata": {},
     "output_type": "execute_result"
    }
   ],
   "source": [
    "# [pdf], [video], [png], [germany] , [A],[9]\n",
    "\n",
    "pattern = \"\\[.+\\]\"\n",
    "\n",
    "title[title.str.contains(pattern)].tail(20)"
   ]
  },
  {
   "cell_type": "code",
   "execution_count": 23,
   "metadata": {},
   "outputs": [],
   "source": [
    "a = \"Economy..GDP\""
   ]
  },
  {
   "cell_type": "code",
   "execution_count": 24,
   "metadata": {},
   "outputs": [
    {
     "data": {
      "text/plain": [
       "'Economy  GDP'"
      ]
     },
     "execution_count": 24,
     "metadata": {},
     "output_type": "execute_result"
    }
   ],
   "source": [
    "a = a.replace(\".\",\" \")\n",
    "a"
   ]
  },
  {
   "cell_type": "code",
   "execution_count": 25,
   "metadata": {},
   "outputs": [
    {
     "data": {
      "text/plain": [
       "'Economy GDP'"
      ]
     },
     "execution_count": 25,
     "metadata": {},
     "output_type": "execute_result"
    }
   ],
   "source": [
    "a = re.sub(\"\\s+\",\" \",a)\n",
    "a"
   ]
  },
  {
   "cell_type": "markdown",
   "metadata": {},
   "source": [
    "# Negative Class\n",
    "\n",
    "* `Negative Set` -> [^fud] any charachter except f,u or d\n",
    "* `Negative Set` -> [^1-3Z\\s] any charachter except 1,2,3,Z or Whitespace character\n",
    "* `Negative Digit` -> \\D any charachter except Digit character\n",
    "* `Negative Word` -> \\W any charachter except word character\n",
    "* `Negative whitespace` -> \\S any charachter except space character\n"
   ]
  },
  {
   "cell_type": "code",
   "execution_count": 26,
   "metadata": {},
   "outputs": [],
   "source": [
    "\"JavaScript\"\n",
    "\"javascript\"\n",
    "\"Java\"\n",
    "\n",
    "pattern = \"[jJ]ava[^Ss]\""
   ]
  },
  {
   "cell_type": "code",
   "execution_count": 27,
   "metadata": {},
   "outputs": [
    {
     "data": {
      "text/plain": [
       "<re.Match object; span=(0, 5), match='Java '>"
      ]
     },
     "execution_count": 27,
     "metadata": {},
     "output_type": "execute_result"
    }
   ],
   "source": [
    "a = \"I am learning javascript\"\n",
    "b = \"I am learning javapython\"\n",
    "c = \"Java is my favourite language\"\n",
    "\n",
    "pattern = \"[jJ]ava[^Ss]\"\n",
    "\n",
    "re.search(pattern,c)"
   ]
  },
  {
   "cell_type": "code",
   "execution_count": 28,
   "metadata": {},
   "outputs": [
    {
     "data": {
      "text/plain": [
       "<re.Match object; span=(14, 18), match='java'>"
      ]
     },
     "execution_count": 28,
     "metadata": {},
     "output_type": "execute_result"
    }
   ],
   "source": [
    "a = \"I am learning java\"\n",
    "\n",
    "pattern = \"\\\\b[jJ]ava\\\\b\"\n",
    "\n",
    "re.search(pattern,a)"
   ]
  },
  {
   "cell_type": "code",
   "execution_count": 29,
   "metadata": {},
   "outputs": [
    {
     "name": "stdout",
     "output_type": "stream",
     "text": [
      "hello\\b\n"
     ]
    }
   ],
   "source": [
    "print(\"hello\\\\b\")"
   ]
  },
  {
   "cell_type": "code",
   "execution_count": 30,
   "metadata": {},
   "outputs": [
    {
     "data": {
      "text/plain": [
       "<re.Match object; span=(14, 18), match='java'>"
      ]
     },
     "execution_count": 30,
     "metadata": {},
     "output_type": "execute_result"
    }
   ],
   "source": [
    "a = \"I am learning java\"\n",
    "\n",
    "pattern = r\"\\b[jJ]ava\\b\"\n",
    "\n",
    "re.search(pattern,a)"
   ]
  },
  {
   "cell_type": "markdown",
   "metadata": {},
   "source": [
    "* ^ -> it will check pattern at the start\n",
    "* $ -> it will check pattern at the end"
   ]
  },
  {
   "cell_type": "code",
   "execution_count": 31,
   "metadata": {},
   "outputs": [],
   "source": [
    "pattern = r\"^Danial\" # Check at start\n",
    "\n",
    "pattern = r\"Danial$\" # Check at end "
   ]
  },
  {
   "cell_type": "code",
   "execution_count": 32,
   "metadata": {},
   "outputs": [
    {
     "data": {
      "text/plain": [
       "195                 [Beta] Speedtest.net  HTML5 Speed Test\n",
       "398         [video] Google Self-Driving SUV Sideswipes Bus\n",
       "3136                           [CSS] Yellow Fade Technique\n",
       "5054     [React] proptypes-parser: Define React PropTyp...\n",
       "9389     [Petition] Tell Microsoft to stop making browsers\n",
       "10960      [pdf] Ninth Circuit Decision on AT&T Throttling\n",
       "11356    [video] a new tool to make your workflow as a ...\n",
       "12323                [Map] Watch as the US grows over time\n",
       "12374    [JavaScript] to promise or to callback? This i...\n",
       "13385                [video] Introducing Apple File System\n",
       "14397    [video] Boston Dynamics Atlas robot video comm...\n",
       "16747    [ask] Why you should borrow me your spare comp...\n",
       "19035    [2015] How one man earns $1M a year teaching w...\n",
       "19482       [Challenge] Sorting algorithm with constraints\n",
       "19583    [Ubuntu]if you do this sudo chmod 777 -R /etc,...\n",
       "Name: title, dtype: object"
      ]
     },
     "execution_count": 32,
     "metadata": {},
     "output_type": "execute_result"
    }
   ],
   "source": [
    "# [pdf], [video], [png], [germany] , [A],[9]\n",
    "\n",
    "pattern = \"^\\[\\w+\\]\"\n",
    "\n",
    "title[title.str.contains(pattern)].tail(20)"
   ]
  },
  {
   "cell_type": "code",
   "execution_count": 33,
   "metadata": {},
   "outputs": [
    {
     "data": {
      "text/plain": [
       "19011         Memory Compression in Windows 10 RTM [video]\n",
       "19052      Centriphone  an iPhone video experiment [video]\n",
       "19063    Andrew Ng on What's Next in Deep Learning [video]\n",
       "19133             PostgreSQL: Linux VS Windows [Benchmark]\n",
       "19162                  The Ultimate Amiga 500 Talk [video]\n",
       "19225    Explore how the periodic table has changed in ...\n",
       "19260    Why Johnny Cant Encrypt: A Usability Evaluatio...\n",
       "19290    Object-Oriented Programming is Garbage: 3800 S...\n",
       "19319    Are fluoride levels in drinking water associat...\n",
       "19364                            The Sound of Code [video]\n",
       "19440         Security without Identification (1985) [pdf]\n",
       "19445    Employees Leave Good Bosses Nearly as Often as...\n",
       "19541    On the Insecurity of Whitelists and the Future...\n",
       "19549                IMP: Indirect Memory Prefetcher [pdf]\n",
       "19743    Using a Neural Network to Train a Ruby Twitter...\n",
       "19763    TSA can now force you to go through body scann...\n",
       "19867                       Using Pony for Fintech [video]\n",
       "19947                                Swift Reversing [pdf]\n",
       "19979    WSJ/Dowjones Announce Unauthorized Access Betw...\n",
       "20089    Users Really Do Plug in USB Drives They Find [...\n",
       "Name: title, dtype: object"
      ]
     },
     "execution_count": 33,
     "metadata": {},
     "output_type": "execute_result"
    }
   ],
   "source": [
    "# [pdf], [video], [png], [germany] , [A],[9]\n",
    "\n",
    "pattern = \"\\[\\w+\\]$\"\n",
    "\n",
    "title[title.str.contains(pattern)].tail(20)"
   ]
  },
  {
   "cell_type": "code",
   "execution_count": 34,
   "metadata": {},
   "outputs": [
    {
     "data": {
      "text/plain": [
       "16056     Another Hack: 117M LinkedIn Emails and Passwords\n",
       "16152    Avoid committing to GitHub with your company e...\n",
       "16508    State Dept.: Clinton IT aide's email archive i...\n",
       "16794    Turkey blocks access to WikiLeaks after email-...\n",
       "17004    TRACEMAIL: Visualize the path of your emails, ...\n",
       "17060        This Email Subscription Will Make You Smarter\n",
       "17214                             Why Email does not stink\n",
       "17374              POPFile  Automatic Email Classification\n",
       "17415    Microsoft failed to warn victims of Chinese em...\n",
       "17440    More Encryption, More Notifications, More Emai...\n",
       "17826    Show HN: Email PaaS Pricing (for former Mandri...\n",
       "17924                 How Clintons email scandal took root\n",
       "17926             Disposable, Secure, Email Built in Rails\n",
       "18098    House panel looking into Reddit post about Cli...\n",
       "18583    Mailgen  Generates clean, responsive HTML for ...\n",
       "18847    Show HN: Crisp iOS keyboard for email and text...\n",
       "19303    Ask HN: Why big email providers don't sign the...\n",
       "19395    I used HTML Email when applying for jobs, here...\n",
       "19446    Tell HN: Secure email provider Riseup will run...\n",
       "19905    Gmail Will Soon Warn Users When Emails Arrive ...\n",
       "Name: title, dtype: object"
      ]
     },
     "execution_count": 34,
     "metadata": {},
     "output_type": "execute_result"
    }
   ],
   "source": [
    "# email, Email, EMail, EMAIL, EmAIL\n",
    "\n",
    "pattern = \"[Ee][Mm][Aa][Ii][lL]\"\n",
    "title[title.str.contains(pattern)].tail(20)"
   ]
  },
  {
   "cell_type": "code",
   "execution_count": 35,
   "metadata": {},
   "outputs": [
    {
     "data": {
      "text/plain": [
       "16056     Another Hack: 117M LinkedIn Emails and Passwords\n",
       "16152    Avoid committing to GitHub with your company e...\n",
       "16508    State Dept.: Clinton IT aide's email archive i...\n",
       "16794    Turkey blocks access to WikiLeaks after email-...\n",
       "17004    TRACEMAIL: Visualize the path of your emails, ...\n",
       "17060        This Email Subscription Will Make You Smarter\n",
       "17214                             Why Email does not stink\n",
       "17374              POPFile  Automatic Email Classification\n",
       "17415    Microsoft failed to warn victims of Chinese em...\n",
       "17440    More Encryption, More Notifications, More Emai...\n",
       "17826    Show HN: Email PaaS Pricing (for former Mandri...\n",
       "17924                 How Clintons email scandal took root\n",
       "17926             Disposable, Secure, Email Built in Rails\n",
       "18098    House panel looking into Reddit post about Cli...\n",
       "18583    Mailgen  Generates clean, responsive HTML for ...\n",
       "18847    Show HN: Crisp iOS keyboard for email and text...\n",
       "19303    Ask HN: Why big email providers don't sign the...\n",
       "19395    I used HTML Email when applying for jobs, here...\n",
       "19446    Tell HN: Secure email provider Riseup will run...\n",
       "19905    Gmail Will Soon Warn Users When Emails Arrive ...\n",
       "Name: title, dtype: object"
      ]
     },
     "execution_count": 35,
     "metadata": {},
     "output_type": "execute_result"
    }
   ],
   "source": [
    "# email, Email, EMail, EMAIL, EmAIL\n",
    "\n",
    "pattern = \"EMAIL\"\n",
    "title[title.str.contains(pattern, flags = re.I)].tail(20) # Ignore Case"
   ]
  },
  {
   "cell_type": "code",
   "execution_count": 36,
   "metadata": {},
   "outputs": [
    {
     "data": {
      "text/plain": [
       "16099                   Need help to set ODBC MySQL driver\n",
       "16135      NoSQL Databases: A Survey and Decision Guidance\n",
       "16239                              PostgreSQL 9.5 Released\n",
       "16688    AMA with Greg Kemnitz (One of the Creators of ...\n",
       "16925                  Open Source NoSQL Database for .NET\n",
       "17104    Potential Response to Oracles Anti-PostgreSQL ...\n",
       "17207               PostgreSQL: the bits you haven't found\n",
       "17660             Aurora RDS vs. Google CloudSQL Benchmark\n",
       "17983                              MySQL is a Better NoSQL\n",
       "17995    Ask HN: What are the best resources for learni...\n",
       "18063    Gh-ost: GitHub's online schema migration tool ...\n",
       "18072    Show HN: ESENT Serialize, a .NET Persistence a...\n",
       "18166    The Architecture of Schemaless, Uber Engineeri...\n",
       "18666                      Parallel Query (PostgreSQL 9.6)\n",
       "18828          Practical Guide to PostgreSQL Optimizations\n",
       "19066    A universal PHP script to generate JSON from a...\n",
       "19087         PostgreSQL Scalability: Towards Millions TPS\n",
       "19133             PostgreSQL: Linux VS Windows [Benchmark]\n",
       "19580                           PostgreSQL Index Internals\n",
       "19802                     Uber's Move Away from PostgreSQL\n",
       "Name: title, dtype: object"
      ]
     },
     "execution_count": 36,
     "metadata": {},
     "output_type": "execute_result"
    }
   ],
   "source": [
    "# Mysql, postgresql, cloudSQL\n",
    "\n",
    "pattern = \"\\w+sql\"\n",
    "\n",
    "title[title.str.contains(pattern, flags = re.I)].tail(20) # Ignore Case"
   ]
  },
  {
   "cell_type": "code",
   "execution_count": 37,
   "metadata": {},
   "outputs": [
    {
     "ename": "NameError",
     "evalue": "name 'df' is not defined",
     "output_type": "error",
     "traceback": [
      "\u001b[1;31m---------------------------------------------------------------------------\u001b[0m",
      "\u001b[1;31mNameError\u001b[0m                                 Traceback (most recent call last)",
      "\u001b[1;32m<ipython-input-37-ee6e2d334275>\u001b[0m in \u001b[0;36m<module>\u001b[1;34m\u001b[0m\n\u001b[0;32m      3\u001b[0m \u001b[0mpattern\u001b[0m \u001b[1;33m=\u001b[0m \u001b[1;34m\"(\\w+sql)\"\u001b[0m\u001b[1;33m\u001b[0m\u001b[1;33m\u001b[0m\u001b[0m\n\u001b[0;32m      4\u001b[0m \u001b[0mtitle\u001b[0m\u001b[1;33m.\u001b[0m\u001b[0mstr\u001b[0m\u001b[1;33m.\u001b[0m\u001b[0mextract\u001b[0m\u001b[1;33m(\u001b[0m\u001b[0mpattern\u001b[0m\u001b[1;33m,\u001b[0m \u001b[0mflags\u001b[0m \u001b[1;33m=\u001b[0m \u001b[0mre\u001b[0m\u001b[1;33m.\u001b[0m\u001b[0mI\u001b[0m\u001b[1;33m)\u001b[0m \u001b[1;31m# Ignore Case\u001b[0m\u001b[1;33m\u001b[0m\u001b[1;33m\u001b[0m\u001b[0m\n\u001b[1;32m----> 5\u001b[1;33m \u001b[0mdf\u001b[0m\u001b[1;33m[\u001b[0m\u001b[0mdf\u001b[0m\u001b[1;33m[\u001b[0m\u001b[1;36m0\u001b[0m\u001b[1;33m]\u001b[0m\u001b[1;33m.\u001b[0m\u001b[0mnotnull\u001b[0m\u001b[1;33m(\u001b[0m\u001b[1;33m)\u001b[0m\u001b[1;33m]\u001b[0m\u001b[1;33m[\u001b[0m\u001b[1;36m0\u001b[0m\u001b[1;33m]\u001b[0m\u001b[1;33m\u001b[0m\u001b[1;33m\u001b[0m\u001b[0m\n\u001b[0m",
      "\u001b[1;31mNameError\u001b[0m: name 'df' is not defined"
     ]
    }
   ],
   "source": [
    "# Mysql, postgresql, cloudSQL\n",
    "\n",
    "pattern = \"(\\w+sql)\"\n",
    "title.str.extract(pattern, flags = re.I) # Ignore Case\n",
    "df[df[0].notnull()][0]"
   ]
  },
  {
   "cell_type": "code",
   "execution_count": null,
   "metadata": {},
   "outputs": [],
   "source": [
    "pattern = \"python\\s?\\d+\"\n",
    "\n",
    "title[title.str.contains(pattern, flags = re.I)].tail(20) # Ignore Case"
   ]
  },
  {
   "cell_type": "code",
   "execution_count": null,
   "metadata": {},
   "outputs": [],
   "source": [
    "# Mysql, postgresql, cloudSQL\n",
    "\n",
    "pattern = \"\\[(\\w+)\\]\"\n",
    "df = title.str.extract(pattern, flags = re.I) # Ignore Case\n",
    "df[df[0].notnull()][0].value_counts()"
   ]
  },
  {
   "cell_type": "code",
   "execution_count": null,
   "metadata": {},
   "outputs": [],
   "source": [
    "i = \"C language\"\n",
    "\n",
    "pattern = r\"\\bC\\b[^+#.]\"\n",
    "\n",
    "title[title.str.contains(pattern, flags = re.I)].tail(20) # Ignore Case"
   ]
  },
  {
   "cell_type": "code",
   "execution_count": null,
   "metadata": {},
   "outputs": [],
   "source": []
  },
  {
   "cell_type": "code",
   "execution_count": null,
   "metadata": {},
   "outputs": [],
   "source": []
  },
  {
   "cell_type": "code",
   "execution_count": null,
   "metadata": {},
   "outputs": [],
   "source": []
  },
  {
   "cell_type": "code",
   "execution_count": null,
   "metadata": {},
   "outputs": [],
   "source": []
  },
  {
   "cell_type": "markdown",
   "metadata": {},
   "source": []
  },
  {
   "cell_type": "markdown",
   "metadata": {},
   "source": []
  },
  {
   "cell_type": "markdown",
   "metadata": {},
   "source": []
  },
  {
   "cell_type": "markdown",
   "metadata": {},
   "source": []
  },
  {
   "cell_type": "markdown",
   "metadata": {},
   "source": []
  },
  {
   "cell_type": "code",
   "execution_count": null,
   "metadata": {},
   "outputs": [],
   "source": []
  }
 ],
 "metadata": {
  "kernelspec": {
   "display_name": "Python 3",
   "language": "python",
   "name": "python3"
  },
  "language_info": {
   "codemirror_mode": {
    "name": "ipython",
    "version": 3
   },
   "file_extension": ".py",
   "mimetype": "text/x-python",
   "name": "python",
   "nbconvert_exporter": "python",
   "pygments_lexer": "ipython3",
   "version": "3.8.5"
  }
 },
 "nbformat": 4,
 "nbformat_minor": 5
}
