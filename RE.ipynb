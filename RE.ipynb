{
 "cells": [
  {
   "cell_type": "code",
   "execution_count": 1,
   "metadata": {},
   "outputs": [],
   "source": [
    "import pandas as pd"
   ]
  },
  {
   "cell_type": "code",
   "execution_count": 2,
   "metadata": {},
   "outputs": [],
   "source": [
    "import numpy as np\n",
    "import matplotlib.pyplot as plt"
   ]
  },
  {
   "cell_type": "code",
   "execution_count": 3,
   "metadata": {},
   "outputs": [],
   "source": [
    "import re "
   ]
  },
  {
   "cell_type": "code",
   "execution_count": 4,
   "metadata": {},
   "outputs": [],
   "source": [
    "hn = pd.read_csv(\"hacker_news.csv\")"
   ]
  },
  {
   "cell_type": "code",
   "execution_count": 5,
   "metadata": {},
   "outputs": [
    {
     "data": {
      "text/html": [
       "<div>\n",
       "<style scoped>\n",
       "    .dataframe tbody tr th:only-of-type {\n",
       "        vertical-align: middle;\n",
       "    }\n",
       "\n",
       "    .dataframe tbody tr th {\n",
       "        vertical-align: top;\n",
       "    }\n",
       "\n",
       "    .dataframe thead th {\n",
       "        text-align: right;\n",
       "    }\n",
       "</style>\n",
       "<table border=\"1\" class=\"dataframe\">\n",
       "  <thead>\n",
       "    <tr style=\"text-align: right;\">\n",
       "      <th></th>\n",
       "      <th>id</th>\n",
       "      <th>title</th>\n",
       "      <th>url</th>\n",
       "      <th>num_points</th>\n",
       "      <th>num_comments</th>\n",
       "      <th>author</th>\n",
       "      <th>created_at</th>\n",
       "    </tr>\n",
       "  </thead>\n",
       "  <tbody>\n",
       "    <tr>\n",
       "      <th>0</th>\n",
       "      <td>12224879</td>\n",
       "      <td>Interactive Dynamic Video</td>\n",
       "      <td>http://www.interactivedynamicvideo.com/</td>\n",
       "      <td>386</td>\n",
       "      <td>52</td>\n",
       "      <td>ne0phyte</td>\n",
       "      <td>8/4/2016 11:52</td>\n",
       "    </tr>\n",
       "    <tr>\n",
       "      <th>1</th>\n",
       "      <td>11964716</td>\n",
       "      <td>Florida DJs May Face Felony for April Fools' W...</td>\n",
       "      <td>http://www.thewire.com/entertainment/2013/04/f...</td>\n",
       "      <td>2</td>\n",
       "      <td>1</td>\n",
       "      <td>vezycash</td>\n",
       "      <td>6/23/2016 22:20</td>\n",
       "    </tr>\n",
       "    <tr>\n",
       "      <th>2</th>\n",
       "      <td>11919867</td>\n",
       "      <td>Technology ventures: From Idea to Enterprise</td>\n",
       "      <td>https://www.amazon.com/Technology-Ventures-Ent...</td>\n",
       "      <td>3</td>\n",
       "      <td>1</td>\n",
       "      <td>hswarna</td>\n",
       "      <td>6/17/2016 0:01</td>\n",
       "    </tr>\n",
       "    <tr>\n",
       "      <th>3</th>\n",
       "      <td>10301696</td>\n",
       "      <td>Note by Note: The Making of Steinway L1037 (2007)</td>\n",
       "      <td>http://www.nytimes.com/2007/11/07/movies/07ste...</td>\n",
       "      <td>8</td>\n",
       "      <td>2</td>\n",
       "      <td>walterbell</td>\n",
       "      <td>9/30/2015 4:12</td>\n",
       "    </tr>\n",
       "    <tr>\n",
       "      <th>4</th>\n",
       "      <td>10482257</td>\n",
       "      <td>Title II kills investment? Comcast and other I...</td>\n",
       "      <td>http://arstechnica.com/business/2015/10/comcas...</td>\n",
       "      <td>53</td>\n",
       "      <td>22</td>\n",
       "      <td>Deinos</td>\n",
       "      <td>10/31/2015 9:48</td>\n",
       "    </tr>\n",
       "    <tr>\n",
       "      <th>...</th>\n",
       "      <td>...</td>\n",
       "      <td>...</td>\n",
       "      <td>...</td>\n",
       "      <td>...</td>\n",
       "      <td>...</td>\n",
       "      <td>...</td>\n",
       "      <td>...</td>\n",
       "    </tr>\n",
       "    <tr>\n",
       "      <th>20094</th>\n",
       "      <td>12379592</td>\n",
       "      <td>How Purism Avoids Intels Active Management Tec...</td>\n",
       "      <td>https://puri.sm/philosophy/how-purism-avoids-i...</td>\n",
       "      <td>10</td>\n",
       "      <td>6</td>\n",
       "      <td>AdmiralAsshat</td>\n",
       "      <td>8/29/2016 2:22</td>\n",
       "    </tr>\n",
       "    <tr>\n",
       "      <th>20095</th>\n",
       "      <td>10339284</td>\n",
       "      <td>YC Application Translated and Broken Down</td>\n",
       "      <td>https://medium.com/@zreitano/the-yc-applicatio...</td>\n",
       "      <td>4</td>\n",
       "      <td>1</td>\n",
       "      <td>zreitano</td>\n",
       "      <td>10/6/2015 14:57</td>\n",
       "    </tr>\n",
       "    <tr>\n",
       "      <th>20096</th>\n",
       "      <td>10824382</td>\n",
       "      <td>Microkernels are slow and Elvis didn't do no d...</td>\n",
       "      <td>http://blog.darknedgy.net/technology/2016/01/0...</td>\n",
       "      <td>169</td>\n",
       "      <td>132</td>\n",
       "      <td>vezzy-fnord</td>\n",
       "      <td>1/2/2016 0:49</td>\n",
       "    </tr>\n",
       "    <tr>\n",
       "      <th>20097</th>\n",
       "      <td>10739875</td>\n",
       "      <td>How Product Hunt really works</td>\n",
       "      <td>https://medium.com/@benjiwheeler/how-product-h...</td>\n",
       "      <td>695</td>\n",
       "      <td>222</td>\n",
       "      <td>brw12</td>\n",
       "      <td>12/15/2015 19:32</td>\n",
       "    </tr>\n",
       "    <tr>\n",
       "      <th>20098</th>\n",
       "      <td>11680777</td>\n",
       "      <td>RoboBrowser: Your friendly neighborhood web sc...</td>\n",
       "      <td>https://github.com/jmcarp/robobrowser</td>\n",
       "      <td>182</td>\n",
       "      <td>58</td>\n",
       "      <td>pmoriarty</td>\n",
       "      <td>5/12/2016 1:43</td>\n",
       "    </tr>\n",
       "  </tbody>\n",
       "</table>\n",
       "<p>20099 rows × 7 columns</p>\n",
       "</div>"
      ],
      "text/plain": [
       "             id                                              title  \\\n",
       "0      12224879                          Interactive Dynamic Video   \n",
       "1      11964716  Florida DJs May Face Felony for April Fools' W...   \n",
       "2      11919867       Technology ventures: From Idea to Enterprise   \n",
       "3      10301696  Note by Note: The Making of Steinway L1037 (2007)   \n",
       "4      10482257  Title II kills investment? Comcast and other I...   \n",
       "...         ...                                                ...   \n",
       "20094  12379592  How Purism Avoids Intels Active Management Tec...   \n",
       "20095  10339284          YC Application Translated and Broken Down   \n",
       "20096  10824382  Microkernels are slow and Elvis didn't do no d...   \n",
       "20097  10739875                      How Product Hunt really works   \n",
       "20098  11680777  RoboBrowser: Your friendly neighborhood web sc...   \n",
       "\n",
       "                                                     url  num_points  \\\n",
       "0                http://www.interactivedynamicvideo.com/         386   \n",
       "1      http://www.thewire.com/entertainment/2013/04/f...           2   \n",
       "2      https://www.amazon.com/Technology-Ventures-Ent...           3   \n",
       "3      http://www.nytimes.com/2007/11/07/movies/07ste...           8   \n",
       "4      http://arstechnica.com/business/2015/10/comcas...          53   \n",
       "...                                                  ...         ...   \n",
       "20094  https://puri.sm/philosophy/how-purism-avoids-i...          10   \n",
       "20095  https://medium.com/@zreitano/the-yc-applicatio...           4   \n",
       "20096  http://blog.darknedgy.net/technology/2016/01/0...         169   \n",
       "20097  https://medium.com/@benjiwheeler/how-product-h...         695   \n",
       "20098              https://github.com/jmcarp/robobrowser         182   \n",
       "\n",
       "       num_comments         author        created_at  \n",
       "0                52       ne0phyte    8/4/2016 11:52  \n",
       "1                 1       vezycash   6/23/2016 22:20  \n",
       "2                 1        hswarna    6/17/2016 0:01  \n",
       "3                 2     walterbell    9/30/2015 4:12  \n",
       "4                22         Deinos   10/31/2015 9:48  \n",
       "...             ...            ...               ...  \n",
       "20094             6  AdmiralAsshat    8/29/2016 2:22  \n",
       "20095             1       zreitano   10/6/2015 14:57  \n",
       "20096           132    vezzy-fnord     1/2/2016 0:49  \n",
       "20097           222          brw12  12/15/2015 19:32  \n",
       "20098            58      pmoriarty    5/12/2016 1:43  \n",
       "\n",
       "[20099 rows x 7 columns]"
      ]
     },
     "execution_count": 5,
     "metadata": {},
     "output_type": "execute_result"
    }
   ],
   "source": [
    "hn"
   ]
  },
  {
   "cell_type": "code",
   "execution_count": 8,
   "metadata": {},
   "outputs": [],
   "source": [
    "pattern = \"[Pp]ython\"\n",
    "title = hn[\"title\"]"
   ]
  },
  {
   "cell_type": "code",
   "execution_count": 10,
   "metadata": {},
   "outputs": [
    {
     "data": {
      "text/plain": [
       "102                  From Python to Lua: Why We Switched\n",
       "103            Ubuntu 16.04 LTS to Ship Without Python 2\n",
       "144    Create a GUI Application Using Qt and Python i...\n",
       "Name: title, dtype: object"
      ]
     },
     "execution_count": 10,
     "metadata": {},
     "output_type": "execute_result"
    }
   ],
   "source": [
    "title[title.str.contains(pattern)].head(3)"
   ]
  },
  {
   "cell_type": "markdown",
   "metadata": {},
   "source": [
    "#### Range pattern 1000-2999"
   ]
  },
  {
   "cell_type": "code",
   "execution_count": 13,
   "metadata": {},
   "outputs": [
    {
     "data": {
      "text/plain": [
       "3        Note by Note: The Making of Steinway L1037 (2007)\n",
       "34                        The reverse job applicant (2010)\n",
       "50         Ask HN: Which framework for a CRUD app in 2016?\n",
       "59            2015 in review  1 year after I quit blogging\n",
       "80       Apple Watch Scooped Up Over Half the Smartwatc...\n",
       "                               ...                        \n",
       "20032    Things I Wont Work With: Dioxygen Difluoride (...\n",
       "20049    Study: US is an oligarchy, not a democracy (2014)\n",
       "20075    Tips from a Pro: An Introduction to Microscopi...\n",
       "20081                 Usenet, what have you become? (2012)\n",
       "20082    Colma, Calif., Is a Town of 2.2 Square Miles, ...\n",
       "Name: title, Length: 1143, dtype: object"
      ]
     },
     "execution_count": 13,
     "metadata": {},
     "output_type": "execute_result"
    }
   ],
   "source": [
    "pattern = \"[12][0-9][0-9][0-9]\"\n",
    "title[title.str.contains(pattern)]"
   ]
  },
  {
   "cell_type": "code",
   "execution_count": 14,
   "metadata": {},
   "outputs": [
    {
     "data": {
      "text/plain": [
       "3        Note by Note: The Making of Steinway L1037 (2007)\n",
       "34                        The reverse job applicant (2010)\n",
       "50         Ask HN: Which framework for a CRUD app in 2016?\n",
       "59            2015 in review  1 year after I quit blogging\n",
       "80       Apple Watch Scooped Up Over Half the Smartwatc...\n",
       "                               ...                        \n",
       "20032    Things I Wont Work With: Dioxygen Difluoride (...\n",
       "20049    Study: US is an oligarchy, not a democracy (2014)\n",
       "20075    Tips from a Pro: An Introduction to Microscopi...\n",
       "20081                 Usenet, what have you become? (2012)\n",
       "20082    Colma, Calif., Is a Town of 2.2 Square Miles, ...\n",
       "Name: title, Length: 1143, dtype: object"
      ]
     },
     "execution_count": 14,
     "metadata": {},
     "output_type": "execute_result"
    }
   ],
   "source": [
    "pattern = \"[12][0-9]{3}\"\n",
    "title[title.str.contains(pattern)]"
   ]
  },
  {
   "cell_type": "code",
   "execution_count": 16,
   "metadata": {},
   "outputs": [
    {
     "data": {
      "text/plain": [
       "119      Show HN: Send an email from your shell to your...\n",
       "313          Disposable emails for safe spam free shopping\n",
       "1361     Ask HN: Doing cold emails? helps us prove this...\n",
       "1750     Protect yourself from spam, bots and phishing ...\n",
       "2421                    Ashley Madison hack treating email\n",
       "                               ...                        \n",
       "18098    House panel looking into Reddit post about Cli...\n",
       "18583    Mailgen  Generates clean, responsive HTML for ...\n",
       "18847    Show HN: Crisp iOS keyboard for email and text...\n",
       "19303    Ask HN: Why big email providers don't sign the...\n",
       "19446    Tell HN: Secure email provider Riseup will run...\n",
       "Name: title, Length: 86, dtype: object"
      ]
     },
     "execution_count": 16,
     "metadata": {},
     "output_type": "execute_result"
    }
   ],
   "source": [
    "pattern = \"e-?mail\"\n",
    "title[title.str.contains(pattern)]"
   ]
  },
  {
   "cell_type": "code",
   "execution_count": 21,
   "metadata": {},
   "outputs": [
    {
     "data": {
      "text/plain": [
       "19979    WSJ/Dowjones Announce Unauthorized Access Betw...\n",
       "20089    Users Really Do Plug in USB Drives They Find [...\n",
       "Name: title, dtype: object"
      ]
     },
     "execution_count": 21,
     "metadata": {},
     "output_type": "execute_result"
    }
   ],
   "source": [
    "# [pdf] , [video] , [png] , [germany] , [A] , [9]\n",
    "pattern = \"\\[\\w+\\]\"\n",
    "title[title.str.contains(pattern)].tail(2)"
   ]
  },
  {
   "cell_type": "code",
   "execution_count": 37,
   "metadata": {},
   "outputs": [],
   "source": [
    "a = \"Economy..GDP\""
   ]
  },
  {
   "cell_type": "code",
   "execution_count": 41,
   "metadata": {},
   "outputs": [
    {
     "data": {
      "text/plain": [
       "'Economy  GDP'"
      ]
     },
     "execution_count": 41,
     "metadata": {},
     "output_type": "execute_result"
    }
   ],
   "source": [
    "a = a.replace(\".\",\" \")\n",
    "a"
   ]
  },
  {
   "cell_type": "code",
   "execution_count": 42,
   "metadata": {},
   "outputs": [
    {
     "data": {
      "text/plain": [
       "'Economy GDP'"
      ]
     },
     "execution_count": 42,
     "metadata": {},
     "output_type": "execute_result"
    }
   ],
   "source": [
    "a = re.sub(\"\\s+\",\" \",a)\n",
    "a"
   ]
  },
  {
   "cell_type": "code",
   "execution_count": 43,
   "metadata": {},
   "outputs": [
    {
     "data": {
      "text/plain": [
       "'Economy GDP'"
      ]
     },
     "execution_count": 43,
     "metadata": {},
     "output_type": "execute_result"
    }
   ],
   "source": [
    "a"
   ]
  },
  {
   "cell_type": "code",
   "execution_count": 46,
   "metadata": {},
   "outputs": [
    {
     "data": {
      "text/plain": [
       "19481    Show HN: Adding List Comprehension in Java - E...\n",
       "19735          Java Named Top Programming Language of 2015\n",
       "Name: title, dtype: object"
      ]
     },
     "execution_count": 46,
     "metadata": {},
     "output_type": "execute_result"
    }
   ],
   "source": [
    "pattern = '[jJ]ava[^Ss]'\n",
    "title[title.str.contains(pattern)].tail(2)"
   ]
  },
  {
   "cell_type": "code",
   "execution_count": 51,
   "metadata": {},
   "outputs": [
    {
     "data": {
      "text/plain": [
       "<re.Match object; span=(18, 23), match='javap'>"
      ]
     },
     "execution_count": 51,
     "metadata": {},
     "output_type": "execute_result"
    }
   ],
   "source": [
    "a = \"im using learning javascript\"\n",
    "b = \"im using learning javapython \"\n",
    "\n",
    "pattern = '[jJ]ava[^Ss]'\n",
    "re.search(pattern,b)"
   ]
  },
  {
   "cell_type": "code",
   "execution_count": 56,
   "metadata": {},
   "outputs": [
    {
     "data": {
      "text/plain": [
       "<re.Match object; span=(18, 22), match='java'>"
      ]
     },
     "execution_count": 56,
     "metadata": {},
     "output_type": "execute_result"
    }
   ],
   "source": [
    "a = \"im using learning java\"\n",
    "# boundary characters (\\b xyz \\b)\n",
    "pattern = \"\\\\b[Jj]ava\\\\b\"\n",
    "pattern = r\"\\b[Jj]ava\\b\"\n",
    "re.search(pattern,a)"
   ]
  },
  {
   "cell_type": "code",
   "execution_count": 57,
   "metadata": {},
   "outputs": [],
   "source": [
    "pattern = r\"^Danial\"\n",
    "pattern = r\"Danial$\"\n"
   ]
  },
  {
   "cell_type": "code",
   "execution_count": 59,
   "metadata": {},
   "outputs": [
    {
     "data": {
      "text/plain": [
       "19763    TSA can now force you to go through body scann...\n",
       "19867                       Using Pony for Fintech [video]\n",
       "19947                                Swift Reversing [pdf]\n",
       "19979    WSJ/Dowjones Announce Unauthorized Access Betw...\n",
       "20089    Users Really Do Plug in USB Drives They Find [...\n",
       "Name: title, dtype: object"
      ]
     },
     "execution_count": 59,
     "metadata": {},
     "output_type": "execute_result"
    }
   ],
   "source": [
    "# [pdf] , [video] , [png] , [germany] , [A] , [9]\n",
    "pattern = \"\\[\\w+\\]$\"\n",
    "title[title.str.contains(pattern)].tail(5)"
   ]
  },
  {
   "cell_type": "code",
   "execution_count": 71,
   "metadata": {},
   "outputs": [
    {
     "data": {
      "text/plain": [
       "102"
      ]
     },
     "execution_count": 71,
     "metadata": {},
     "output_type": "execute_result"
    }
   ],
   "source": [
    "# email , Email , EMail , EMAIL , \n",
    "# pattern = \"[A-Za-z]{4}\"\n",
    "pattern = r\"\\b[Ee][Mm][aA][iI][Ll]\\b\"\n",
    "\n",
    "title[title.str.contains(pattern)].tail(20)\n",
    "\n",
    "len(title[title.str.contains(pattern)])\n"
   ]
  },
  {
   "cell_type": "code",
   "execution_count": 75,
   "metadata": {
    "collapsed": true
   },
   "outputs": [
    {
     "data": {
      "text/plain": [
       "142                   PostgreSQL: Linux VS Windows  part 2\n",
       "221                   MemSQL (YC W11) Raises $36M Series C\n",
       "882             Pgmemcahe :A PostgreSQL memcache functions\n",
       "1160     How to choose an in-memory NoSQL solution: Per...\n",
       "1197     Postgraphql: A GraphQL schema created by refle...\n",
       "1370     MI6 (SIS) Is Developing a Node.js, Angular, No...\n",
       "2430        Tracker: Ingesting MySQL data at scale  Part 2\n",
       "2432                SQL for NoSQL: Couchbase N1QL Tutorial\n",
       "4546     Finally, multiple synchronous replication for ...\n",
       "4568      Getting started with NoSQL databases and MongoDB\n",
       "4616     When are we going to contribute BDR to PostgreSQL\n",
       "4944     SQL vs. NoSQL: you do want to have a relationa...\n",
       "5398     Understanding the power of data types (Postgre...\n",
       "5523     Node.js and Express Authentication Kit with My...\n",
       "5654     Independent SQL-On-Hadoop Benchmark of SparkSQ...\n",
       "5738     Once a Year Your Data is Corrupted, Happy Hall...\n",
       "5844     Node-Data is unique framework to support sql,n...\n",
       "6523     Bidirectional Replication is coming to Postgre...\n",
       "6532        Open-sourcing Pinterest MySQL management tools\n",
       "7050     Live MySQL Schema Changes on RDS with Percona ...\n",
       "7245                           The Internals of PostgreSQL\n",
       "7571     A fast PostgreSQL client library for Python: 3...\n",
       "8371     PGHoard: Tools for making PostgreSQL backups t...\n",
       "8823                           PostgreSQL 9.5 RC1 Released\n",
       "9643       Citus Unforks from PostgreSQL, Goes Open Source\n",
       "10238    PostgreSQL, pg_shard, and what we learned from...\n",
       "10264                 PostgreSQL Indexes: First principles\n",
       "10478                        Un-spoken complexity of NoSQL\n",
       "10851    NoSQL Data Stores in Research and Practice [sl...\n",
       "11793    MongoDB: The Frankenstein Monster of NoSQL Dat...\n",
       "12757                       PostgreSQL 9.6 Beta 1 Released\n",
       "12766    Mroonga: Fast fulltext search for all language...\n",
       "12800                                The 5 Stages of NoSQL\n",
       "12973    Ask HN: In what areas are NoSQL Databases bene...\n",
       "14132    Ask HN: Have you had to switch / compensate yo...\n",
       "14527    How to Create a Unique Constraint on a LoopBac...\n",
       "15089           Ask HN: Static site generation from mySql?\n",
       "15348    Show HN: Use Postgres as a zero-config NoSQL d...\n",
       "15898                              OVH: PaaS DB PostgreSQL\n",
       "16095    Fast starting MySQL Docker image suitable for ...\n",
       "16099                   Need help to set ODBC MySQL driver\n",
       "16135      NoSQL Databases: A Survey and Decision Guidance\n",
       "16239                              PostgreSQL 9.5 Released\n",
       "16688    AMA with Greg Kemnitz (One of the Creators of ...\n",
       "16925                  Open Source NoSQL Database for .NET\n",
       "17104    Potential Response to Oracles Anti-PostgreSQL ...\n",
       "17207               PostgreSQL: the bits you haven't found\n",
       "17660             Aurora RDS vs. Google CloudSQL Benchmark\n",
       "17983                              MySQL is a Better NoSQL\n",
       "17995    Ask HN: What are the best resources for learni...\n",
       "18063    Gh-ost: GitHub's online schema migration tool ...\n",
       "18072    Show HN: ESENT Serialize, a .NET Persistence a...\n",
       "18166    The Architecture of Schemaless, Uber Engineeri...\n",
       "18666                      Parallel Query (PostgreSQL 9.6)\n",
       "18828          Practical Guide to PostgreSQL Optimizations\n",
       "19066    A universal PHP script to generate JSON from a...\n",
       "19087         PostgreSQL Scalability: Towards Millions TPS\n",
       "19133             PostgreSQL: Linux VS Windows [Benchmark]\n",
       "19580                           PostgreSQL Index Internals\n",
       "19802                     Uber's Move Away from PostgreSQL\n",
       "Name: title, dtype: object"
      ]
     },
     "execution_count": 75,
     "metadata": {},
     "output_type": "execute_result"
    }
   ],
   "source": [
    "# Mysql , postgresql , cloudSQL\n",
    "pattern = \"\\w+sql\" # \"\\w+sql\" capture group\n",
    "title[title.str.contains(pattern, flags  = re.I)] # Ignore case re.I"
   ]
  },
  {
   "cell_type": "code",
   "execution_count": 87,
   "metadata": {},
   "outputs": [
    {
     "data": {
      "text/plain": [
       "PostgreSQL    27\n",
       "NoSQL         16\n",
       "MySQL         12\n",
       "SparkSQL       1\n",
       "nosql          1\n",
       "MemSQL         1\n",
       "CloudSQL       1\n",
       "mySql          1\n",
       "Name: 0, dtype: int64"
      ]
     },
     "execution_count": 87,
     "metadata": {},
     "output_type": "execute_result"
    }
   ],
   "source": [
    "# Mysql , postgresql , cloudSQL\n",
    "pattern = \"(\\w+sql)\" # \"\\w+sql\" capture group\n",
    "df = title.str.extract(pattern, flags  = re.I) # Ignore case re.I\n",
    "df[df[0].notnull()][0].value_counts()"
   ]
  },
  {
   "cell_type": "code",
   "execution_count": 86,
   "metadata": {},
   "outputs": [
    {
     "data": {
      "text/plain": [
       "103              Ubuntu 16.04 LTS to Ship Without Python 2\n",
       "451      Developing a computational pipeline using the ...\n",
       "740      Python 3 on Google App Engine flexible environ...\n",
       "765      IronPython 3 (python for .net) development res...\n",
       "3720     Python 3.5 Async IO, Matmul and Unpack Feature...\n",
       "5468     Python 3.6 proposal, PEP 525: Asynchronous Gen...\n",
       "5902     Python 3  Function Overloading with singledisp...\n",
       "6163                   How async/await works in Python 3.5\n",
       "6282     Ubuntu Drops Python 2.7 from the Default Insta...\n",
       "6668                           Python 3.5 and Multitasking\n",
       "7908        Python 3 support in scientific Python projects\n",
       "8025                              Python 3 comes to Scrapy\n",
       "8145                                      Python 3 in 2016\n",
       "9406     Python 3.6 dict becomes compact and keywords b...\n",
       "9608     Installing TensorFlow with Python 3 on EC2 GPU...\n",
       "9897     MicroPython 1.5 (small Python implementation f...\n",
       "10719       Python 8 will be the next major Python version\n",
       "11362    Show HN: Python 3 pyGtk graphical curve and su...\n",
       "13684    Show HN: First Release of Transcrypt Python3.5...\n",
       "13961                                         Python 3.5.0\n",
       "15245                     Code that will break in Python 4\n",
       "18312                                  Why Python 3 Exists\n",
       "18421    Show HN: Stack overflow command line client ad...\n",
       "19458    Transition to Python4 won't be like Python3(we...\n",
       "19862                            Moving Away from Python 2\n",
       "Name: title, dtype: object"
      ]
     },
     "execution_count": 86,
     "metadata": {},
     "output_type": "execute_result"
    }
   ],
   "source": [
    "pattern = \"Python\\s?\\d+\"\n",
    "title[title.str.contains(pattern, flags  = re.I)] # Ignore case re.I"
   ]
  },
  {
   "cell_type": "code",
   "execution_count": 88,
   "metadata": {
    "collapsed": true
   },
   "outputs": [
    {
     "data": {
      "text/plain": [
       "pdf            276\n",
       "video          111\n",
       "2015             3\n",
       "audio            3\n",
       "slides           2\n",
       "2014             2\n",
       "beta             2\n",
       "song             1\n",
       "Beta             1\n",
       "detainee         1\n",
       "Skinnywhale      1\n",
       "Petition         1\n",
       "Infograph        1\n",
       "much             1\n",
       "coffee           1\n",
       "Challenge        1\n",
       "SpaceX           1\n",
       "HBR              1\n",
       "German           1\n",
       "updated          1\n",
       "png              1\n",
       "blank            1\n",
       "Excerpt          1\n",
       "Australian       1\n",
       "crash            1\n",
       "comic            1\n",
       "satire           1\n",
       "JavaScript       1\n",
       "ANNOUNCE         1\n",
       "repost           1\n",
       "NSFW             1\n",
       "USA              1\n",
       "2008             1\n",
       "5                1\n",
       "CSS              1\n",
       "Benchmark        1\n",
       "Videos           1\n",
       "1996             1\n",
       "Ubuntu           1\n",
       "transcript       1\n",
       "survey           1\n",
       "React            1\n",
       "gif              1\n",
       "Live             1\n",
       "GOST             1\n",
       "videos           1\n",
       "SPA              1\n",
       "map              1\n",
       "Map              1\n",
       "viz              1\n",
       "Python           1\n",
       "ask              1\n",
       "Name: 0, dtype: int64"
      ]
     },
     "execution_count": 88,
     "metadata": {},
     "output_type": "execute_result"
    }
   ],
   "source": [
    "pattern = \"\\[(\\w+)\\]\" # \"\\w+sql\" capture group\n",
    "df = title.str.extract(pattern, flags  = re.I) # Ignore case re.I\n",
    "df[df[0].notnull()][0].value_counts()"
   ]
  },
  {
   "cell_type": "code",
   "execution_count": 105,
   "metadata": {},
   "outputs": [
    {
     "name": "stdout",
     "output_type": "stream",
     "text": [
      "74\n"
     ]
    },
    {
     "data": {
      "text/plain": [
       "353      VW C.E.O. Personally Apologized to President O...\n",
       "365                       The new C standards are worth it\n",
       "444            Moz raises $10m Series C from Foundry Group\n",
       "521           Fuchsia: Micro kernel written in C by Google\n",
       "549      How to Become a C.E.O.? The Quickest Path Is a...\n",
       "                               ...                        \n",
       "18549            Show HN: An awesome C library for Windows\n",
       "18649                 Python vs. C/C++ in embedded systems\n",
       "19151                      Ask HN: How to learn C in 2016?\n",
       "19933    Lightweight C library to parse NMEA 0183 sente...\n",
       "19997                                    Proposal: C.UTF-8\n",
       "Name: title, Length: 74, dtype: object"
      ]
     },
     "execution_count": 105,
     "metadata": {},
     "output_type": "execute_result"
    }
   ],
   "source": [
    "pattern = r\"\\bC\\b[^+#]\"\n",
    "print(len(title[title.str.contains(pattern)]))\n",
    "title[title.str.contains(pattern)]# Ignore case re.I"
   ]
  },
  {
   "cell_type": "code",
   "execution_count": null,
   "metadata": {},
   "outputs": [],
   "source": []
  }
 ],
 "metadata": {
  "kernelspec": {
   "display_name": "Python 3",
   "language": "python",
   "name": "python3"
  },
  "language_info": {
   "codemirror_mode": {
    "name": "ipython",
    "version": 3
   },
   "file_extension": ".py",
   "mimetype": "text/x-python",
   "name": "python",
   "nbconvert_exporter": "python",
   "pygments_lexer": "ipython3",
   "version": "3.8.5"
  }
 },
 "nbformat": 4,
 "nbformat_minor": 4
}
