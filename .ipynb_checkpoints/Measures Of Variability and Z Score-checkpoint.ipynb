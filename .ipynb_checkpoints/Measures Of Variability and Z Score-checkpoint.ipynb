{
 "cells": [
  {
   "cell_type": "code",
   "execution_count": null,
   "metadata": {},
   "outputs": [],
   "source": [
    "import pandas as pd\n",
    "import numpy as np\n",
    "import matplotlib.pyplot as plt"
   ]
  },
  {
   "cell_type": "code",
   "execution_count": null,
   "metadata": {},
   "outputs": [],
   "source": [
    "pd.read_csv(\"AmesHousing_1.txt\", sep=\"\\t\")"
   ]
  },
  {
   "cell_type": "code",
   "execution_count": null,
   "metadata": {},
   "outputs": [],
   "source": [
    "houses = pd.read_table(\"AmesHousing_1.txt\")\n",
    "houses.head()"
   ]
  },
  {
   "cell_type": "code",
   "execution_count": null,
   "metadata": {},
   "outputs": [],
   "source": [
    "def range_col(col):\n",
    "    max_val = col.max()\n",
    "    min_val = col.min()\n",
    "    rang_col = max_val - min_val\n",
    "    return rang_col"
   ]
  },
  {
   "cell_type": "code",
   "execution_count": null,
   "metadata": {},
   "outputs": [],
   "source": [
    "range_col(houses[\"SalePrice\"])"
   ]
  },
  {
   "cell_type": "code",
   "execution_count": null,
   "metadata": {},
   "outputs": [],
   "source": [
    "years = houses[\"Yr Sold\"].unique()\n",
    "years"
   ]
  },
  {
   "cell_type": "code",
   "execution_count": null,
   "metadata": {},
   "outputs": [],
   "source": [
    "houses[houses[\"Yr Sold\"] == 2006]"
   ]
  },
  {
   "cell_type": "code",
   "execution_count": null,
   "metadata": {},
   "outputs": [],
   "source": [
    "year_group[\"SalePrice\"].get_group(2010)"
   ]
  },
  {
   "cell_type": "code",
   "execution_count": null,
   "metadata": {},
   "outputs": [],
   "source": [
    "range_by_year = {}\n",
    "\n",
    "for i in years:\n",
    "    sale_price = year_group[\"SalePrice\"].get_group(i)\n",
    "    year_range = range_col(sale_price)\n",
    "    range_by_year[i] = year_range"
   ]
  },
  {
   "cell_type": "code",
   "execution_count": null,
   "metadata": {},
   "outputs": [],
   "source": [
    "dict(sorted(range_by_year.items()))"
   ]
  },
  {
   "cell_type": "code",
   "execution_count": null,
   "metadata": {},
   "outputs": [],
   "source": [
    "range_by_year = {}\n",
    "\n",
    "for i in years:\n",
    "    sale_price = year_group[\"SalePrice\"].get_group(i)\n",
    "    year_range = sale_price.mean()\n",
    "    range_by_year[i] = year_range"
   ]
  },
  {
   "cell_type": "code",
   "execution_count": null,
   "metadata": {},
   "outputs": [],
   "source": [
    "dict(sorted(range_by_year.items()))"
   ]
  },
  {
   "cell_type": "markdown",
   "metadata": {},
   "source": [
    "# The Variance"
   ]
  },
  {
   "cell_type": "code",
   "execution_count": null,
   "metadata": {},
   "outputs": [],
   "source": [
    "def varinace(array):\n",
    "    mean = sum(array)/len(array)\n",
    "    distances = []\n",
    "    for element in array:\n",
    "        distance = (element-mean)**2\n",
    "        distances.append(distance)\n",
    "    return sum(distances)/len(distances)"
   ]
  },
  {
   "cell_type": "code",
   "execution_count": null,
   "metadata": {},
   "outputs": [],
   "source": [
    "c = [1,3,5,1,3,2,4,6,9,21]"
   ]
  },
  {
   "cell_type": "code",
   "execution_count": null,
   "metadata": {},
   "outputs": [],
   "source": [
    "varinace(c)"
   ]
  },
  {
   "cell_type": "markdown",
   "metadata": {},
   "source": [
    "# Stand Deviation"
   ]
  },
  {
   "cell_type": "code",
   "execution_count": null,
   "metadata": {},
   "outputs": [],
   "source": [
    "def standard_deviation(array):\n",
    "    mean = np.mean(array)\n",
    "    distance = []\n",
    "    for i in array:\n",
    "        distance.append((i-mean)**2)\n",
    "    average_distance = (np.average(distance))**(1/2) #np.sqrt(np.average(distance))\n",
    "    return average_distance"
   ]
  },
  {
   "cell_type": "code",
   "execution_count": null,
   "metadata": {},
   "outputs": [],
   "source": [
    "standard_deviation(c)"
   ]
  },
  {
   "cell_type": "code",
   "execution_count": null,
   "metadata": {},
   "outputs": [],
   "source": [
    "sum(c)/len(c)"
   ]
  },
  {
   "cell_type": "code",
   "execution_count": null,
   "metadata": {},
   "outputs": [],
   "source": [
    "5.5 - (5.6*2) , 5.5 + (5.6*2)"
   ]
  },
  {
   "cell_type": "code",
   "execution_count": null,
   "metadata": {},
   "outputs": [],
   "source": [
    "houses[\"SalePrice\"].mean()"
   ]
  },
  {
   "cell_type": "code",
   "execution_count": null,
   "metadata": {},
   "outputs": [],
   "source": [
    "houses[\"SalePrice\"].mean() - standard_deviation(houses[\"SalePrice\"]), \\\n",
    "houses[\"SalePrice\"].mean() + standard_deviation(houses[\"SalePrice\"])"
   ]
  },
  {
   "cell_type": "code",
   "execution_count": null,
   "metadata": {},
   "outputs": [],
   "source": [
    "mean = houses[\"SalePrice\"].mean()\n",
    "st_dv = standard_deviation(houses[\"SalePrice\"]) \n",
    "\n",
    "houses[\"SalePrice\"].plot.hist()\n",
    "plt.axvline(mean, color = \"black\", label = \"Mean\")\n",
    "plt.axvline(mean - st_dv, color = \"Red\", label = \"Below\")\n",
    "plt.axvline(mean + st_dv, color = \"Red\", label = \"Above\")\n",
    "\n",
    "plt.show()"
   ]
  },
  {
   "cell_type": "code",
   "execution_count": null,
   "metadata": {},
   "outputs": [],
   "source": [
    "population = houses[\"SalePrice\"]\n",
    "parameter = standard_deviation(population)\n",
    "parameter"
   ]
  },
  {
   "cell_type": "code",
   "execution_count": null,
   "metadata": {},
   "outputs": [],
   "source": [
    "statistic = []\n",
    "\n",
    "for i in range(5000):\n",
    "    sample = houses[\"SalePrice\"].sample(10, random_state = i)\n",
    "    std_dev = standard_deviation(sample)\n",
    "    statistic.append(std_dev)"
   ]
  },
  {
   "cell_type": "code",
   "execution_count": null,
   "metadata": {},
   "outputs": [],
   "source": [
    "len(statistic)"
   ]
  },
  {
   "cell_type": "code",
   "execution_count": null,
   "metadata": {},
   "outputs": [],
   "source": [
    "plt.hist(statistic)\n",
    "plt.axvline(parameter, color = \"red\")\n",
    "plt.show()"
   ]
  },
  {
   "cell_type": "code",
   "execution_count": null,
   "metadata": {},
   "outputs": [],
   "source": [
    "parameter"
   ]
  },
  {
   "cell_type": "code",
   "execution_count": null,
   "metadata": {},
   "outputs": [],
   "source": [
    "np.mean(statistic)"
   ]
  },
  {
   "cell_type": "markdown",
   "metadata": {},
   "source": [
    "Bessel's Correction"
   ]
  },
  {
   "cell_type": "code",
   "execution_count": null,
   "metadata": {},
   "outputs": [],
   "source": [
    "def standard_deviation(array):\n",
    "    mean = np.mean(array)\n",
    "    distance = []\n",
    "    for i in array:\n",
    "        distance.append((i-mean)**2)\n",
    "    average_distance = sum(distance)/(len(distance)-1) #np.sqrt(np.average(distance))\n",
    "    return np.sqrt(average_distance)"
   ]
  },
  {
   "cell_type": "code",
   "execution_count": null,
   "metadata": {},
   "outputs": [],
   "source": [
    "statistic = []\n",
    "\n",
    "for i in range(5000):\n",
    "    sample = houses[\"SalePrice\"].sample(10, random_state = i)\n",
    "    std_dev = standard_deviation(sample)\n",
    "    statistic.append(std_dev)"
   ]
  },
  {
   "cell_type": "code",
   "execution_count": null,
   "metadata": {},
   "outputs": [],
   "source": [
    "plt.hist(statistic)\n",
    "plt.axvline(parameter, color = \"red\")\n",
    "plt.title(\"With Bessel's Correction\")\n",
    "plt.show()"
   ]
  },
  {
   "cell_type": "code",
   "execution_count": null,
   "metadata": {},
   "outputs": [],
   "source": [
    "parameter"
   ]
  },
  {
   "cell_type": "code",
   "execution_count": null,
   "metadata": {},
   "outputs": [],
   "source": [
    "np.mean(statistic)"
   ]
  },
  {
   "cell_type": "markdown",
   "metadata": {},
   "source": [
    "# Z-Scores"
   ]
  },
  {
   "cell_type": "code",
   "execution_count": null,
   "metadata": {},
   "outputs": [],
   "source": [
    "houses[\"SalePrice\"].sample(1, random_state = 0)"
   ]
  },
  {
   "cell_type": "code",
   "execution_count": null,
   "metadata": {},
   "outputs": [],
   "source": [
    "mean = houses[\"SalePrice\"].mean()\n",
    "st_dv = standard_deviation(houses[\"SalePrice\"]) \n",
    "\n",
    "houses[\"SalePrice\"].plot.kde()\n",
    "plt.xlim(min(houses[\"SalePrice\"]),max(houses[\"SalePrice\"]))\n",
    "plt.axvline(mean, color = \"black\", label = \"Mean\")\n",
    "plt.axvline(mean - st_dv, color = \"Red\", label = \"Below\")\n",
    "plt.axvline(mean + st_dv, color = \"Red\", label = \"Above\")\n",
    "plt.axvline(220000, color = \"orange\", label = \"220000\")\n",
    "plt.legend()\n",
    "plt.show()"
   ]
  },
  {
   "cell_type": "markdown",
   "metadata": {},
   "source": [
    "# Z-Score:\n",
    "    the value representing the number of std.Deviation away from the mean is commonly known as the standard score, or the z-score"
   ]
  },
  {
   "cell_type": "code",
   "execution_count": null,
   "metadata": {},
   "outputs": [],
   "source": [
    "def z_score(value,series, bessel = 0):\n",
    "    std = series.std(ddof = bessel)\n",
    "    mean = series.mean()\n",
    "    z = (value - mean)/std\n",
    "    return z"
   ]
  },
  {
   "cell_type": "code",
   "execution_count": null,
   "metadata": {},
   "outputs": [],
   "source": [
    "z_score(220000,houses[\"SalePrice\"])"
   ]
  },
  {
   "cell_type": "code",
   "execution_count": null,
   "metadata": {},
   "outputs": [],
   "source": [
    "0.4908280788718362*standard_deviation(houses[\"SalePrice\"]) + houses[\"SalePrice\"].mean()"
   ]
  },
  {
   "cell_type": "markdown",
   "metadata": {},
   "source": [
    "website 1 : 3\n",
    "website 2 : 8\n",
    "\n",
    "website 1 mean : 3\n",
    "website 2 mean : 7\n",
    "\n",
    "website 1 std : 1\n",
    "website 2 std : 2\n",
    "\n",
    "website range  : 2-4    = -1  to  1\n",
    "website 2 std : 5-9     = -1  to  1   \n",
    "\n",
    "\n",
    "website 1 z-score : 0\n",
    "website 2 z-score : 0.5\n"
   ]
  },
  {
   "cell_type": "markdown",
   "metadata": {},
   "source": [
    "mean : 7\n",
    "std : 2\n",
    "5 - 9\n",
    "value : 8\n",
    "z-s : 0     = 7\n",
    "mean+std z: 1       = 9\n",
    "mean-std z: -1       = 5"
   ]
  },
  {
   "cell_type": "code",
   "execution_count": null,
   "metadata": {},
   "outputs": [],
   "source": [
    "(8-7)/2"
   ]
  },
  {
   "cell_type": "code",
   "execution_count": null,
   "metadata": {},
   "outputs": [],
   "source": []
  }
 ],
 "metadata": {
  "kernelspec": {
   "display_name": "Python 3",
   "language": "python",
   "name": "python3"
  },
  "language_info": {
   "codemirror_mode": {
    "name": "ipython",
    "version": 3
   },
   "file_extension": ".py",
   "mimetype": "text/x-python",
   "name": "python",
   "nbconvert_exporter": "python",
   "pygments_lexer": "ipython3",
   "version": "3.8.5"
  }
 },
 "nbformat": 4,
 "nbformat_minor": 4
}
