{
 "cells": [
  {
   "cell_type": "code",
   "execution_count": 1,
   "metadata": {},
   "outputs": [],
   "source": [
    "import matplotlib.pyplot as plt"
   ]
  },
  {
   "cell_type": "code",
   "execution_count": 2,
   "metadata": {},
   "outputs": [],
   "source": [
    "import pandas as pd"
   ]
  },
  {
   "cell_type": "code",
   "execution_count": 3,
   "metadata": {},
   "outputs": [],
   "source": [
    "distribution  = [1,2,3,3,3,4,12]"
   ]
  },
  {
   "cell_type": "code",
   "execution_count": 4,
   "metadata": {},
   "outputs": [],
   "source": [
    "mean = sum(distribution)/len(distribution)"
   ]
  },
  {
   "cell_type": "code",
   "execution_count": 5,
   "metadata": {},
   "outputs": [
    {
     "data": {
      "text/plain": [
       "11"
      ]
     },
     "execution_count": 5,
     "metadata": {},
     "output_type": "execute_result"
    }
   ],
   "source": [
    "12-1"
   ]
  },
  {
   "cell_type": "code",
   "execution_count": 6,
   "metadata": {},
   "outputs": [
    {
     "name": "stdout",
     "output_type": "stream",
     "text": [
      "[2, 1]\n",
      "[3, 2, 1]\n",
      "[3, 3, 2, 1]\n",
      "[3, 3, 3, 2, 1]\n",
      "[4, 3, 3, 3, 2, 1]\n",
      "[12, 4, 3, 3, 3, 2, 1]\n",
      "[2, 1]\n",
      "[3, 2, 1]\n",
      "[3, 3, 2, 1]\n",
      "[3, 3, 3, 2, 1]\n",
      "[4, 3, 3, 3, 2, 1]\n",
      "[12, 4, 3, 3, 3, 2, 1]\n",
      "[2, 1]\n",
      "[2, 1]\n",
      "[3, 2, 1]\n",
      "[3, 3, 2, 1]\n",
      "[3, 3, 3, 2, 1]\n",
      "[4, 3, 3, 3, 2, 1]\n",
      "[12, 4, 3, 3, 3, 2, 1]\n",
      "[2, 1]\n",
      "[3, 2, 1]\n",
      "[3, 2, 1]\n",
      "[3, 3, 2, 1]\n",
      "[3, 3, 3, 2, 1]\n",
      "[4, 3, 3, 3, 2, 1]\n",
      "[12, 4, 3, 3, 3, 2, 1]\n",
      "[2, 1]\n",
      "[3, 2, 1]\n",
      "[3, 3, 2, 1]\n",
      "[3, 3, 2, 1]\n",
      "[3, 3, 3, 2, 1]\n",
      "[4, 3, 3, 3, 2, 1]\n",
      "[12, 4, 3, 3, 3, 2, 1]\n",
      "[2, 1]\n",
      "[3, 2, 1]\n",
      "[3, 3, 2, 1]\n",
      "[3, 3, 3, 2, 1]\n",
      "[3, 3, 3, 2, 1]\n",
      "[4, 3, 3, 3, 2, 1]\n",
      "[12, 4, 3, 3, 3, 2, 1]\n",
      "[2, 1]\n",
      "[3, 2, 1]\n",
      "[3, 3, 2, 1]\n",
      "[3, 3, 3, 2, 1]\n",
      "[4, 3, 3, 3, 2, 1]\n",
      "[4, 3, 3, 3, 2, 1]\n",
      "[12, 4, 3, 3, 3, 2, 1]\n"
     ]
    }
   ],
   "source": [
    "for i in range(len(distribution)):\n",
    "    for j in range(len(distribution) - 1,0,-1):\n",
    "        print(distribution[-j::-1])\n",
    "        if sum(distribution[:i]) == sum(distribution[-j::-1]):\n",
    "            print(distribution[-j::-1])"
   ]
  },
  {
   "cell_type": "code",
   "execution_count": 7,
   "metadata": {},
   "outputs": [
    {
     "name": "stdout",
     "output_type": "stream",
     "text": [
      "[12]\n",
      "[1, 2, 3, 3, 3]\n"
     ]
    },
    {
     "data": {
      "text/plain": [
       "True"
      ]
     },
     "execution_count": 7,
     "metadata": {},
     "output_type": "execute_result"
    }
   ],
   "source": [
    "above = []\n",
    "below = []\n",
    "for i in range(len(distribution)):\n",
    "    value = distribution[i]\n",
    "    if value > mean:\n",
    "        above.append(value )\n",
    "    elif value < mean:\n",
    "        below.append(value)\n",
    "print(above)\n",
    "print(below)\n",
    "sum(above) == sum(below)"
   ]
  },
  {
   "cell_type": "code",
   "execution_count": 8,
   "metadata": {},
   "outputs": [],
   "source": [
    "ages = [8,11,12,25,25,27,31,33,34,35,36,43,50,59]\n"
   ]
  },
  {
   "cell_type": "code",
   "execution_count": 9,
   "metadata": {},
   "outputs": [
    {
     "data": {
      "text/plain": [
       "<function matplotlib.pyplot.show(close=None, block=None)>"
      ]
     },
     "execution_count": 9,
     "metadata": {},
     "output_type": "execute_result"
    },
    {
     "data": {
      "image/png": "[encoded data removed]",
      "text/plain": [
       "<Figure size 432x288 with 1 Axes>"
      ]
     },
     "metadata": {
      "needs_background": "light"
     },
     "output_type": "display_data"
    }
   ],
   "source": [
    "plt.boxplot(ages)\n",
    "plt.show"
   ]
  },
  {
   "cell_type": "markdown",
   "metadata": {},
   "source": [
    "# Whiskers\n",
    "* datavalue < q1 - 1.5 (Inter.Quatile.Range) \n",
    "* datavalue > q3 + 1.5 (I.Q.R)\n"
   ]
  },
  {
   "cell_type": "code",
   "execution_count": 10,
   "metadata": {},
   "outputs": [
    {
     "data": {
      "text/plain": [
       "11"
      ]
     },
     "execution_count": 10,
     "metadata": {},
     "output_type": "execute_result"
    }
   ],
   "source": [
    "# IQR\n",
    "# q3 - q1\n",
    "36-25"
   ]
  },
  {
   "cell_type": "code",
   "execution_count": 11,
   "metadata": {},
   "outputs": [
    {
     "data": {
      "text/plain": [
       "8.5"
      ]
     },
     "execution_count": 11,
     "metadata": {},
     "output_type": "execute_result"
    }
   ],
   "source": [
    "25 - 1.5*11"
   ]
  },
  {
   "cell_type": "code",
   "execution_count": 12,
   "metadata": {},
   "outputs": [],
   "source": [
    "income = pd.Series([62,1000,64000,1000,49000,1000,324000])"
   ]
  },
  {
   "cell_type": "code",
   "execution_count": 13,
   "metadata": {},
   "outputs": [
    {
     "data": {
      "text/plain": [
       "(62866.0,\n",
       " 1000.0,\n",
       " 0    1000\n",
       " dtype: int64)"
      ]
     },
     "execution_count": 13,
     "metadata": {},
     "output_type": "execute_result"
    }
   ],
   "source": [
    "income.mean(),income.median(),income.mode()"
   ]
  },
  {
   "cell_type": "code",
   "execution_count": 14,
   "metadata": {},
   "outputs": [
    {
     "data": {
      "image/png": "[encoded data removed]",
      "text/plain": [
       "<Figure size 432x288 with 1 Axes>"
      ]
     },
     "metadata": {
      "needs_background": "light"
     },
     "output_type": "display_data"
    }
   ],
   "source": [
    "plt.boxplot(income)\n",
    "plt.show()"
   ]
  },
  {
   "cell_type": "code",
   "execution_count": 15,
   "metadata": {},
   "outputs": [
    {
     "data": {
      "text/plain": [
       "<matplotlib.legend.Legend at 0x1e91746e340>"
      ]
     },
     "execution_count": 15,
     "metadata": {},
     "output_type": "execute_result"
    },
    {
     "data": {
      "image/png": "[encoded data removed]",
      "text/plain": [
       "<Figure size 432x288 with 1 Axes>"
      ]
     },
     "metadata": {
      "needs_background": "light"
     },
     "output_type": "display_data"
    }
   ],
   "source": [
    "income.plot.kde(xlim = (income.min(),income.max()))\n",
    "plt.axvline(income.mean(), color = \"black\" , label = \"Mean\")\n",
    "plt.axvline(income.median(), color = \"red\" , label = \"Median\")\n",
    "plt.axvline(income.mode().mean(), color = \"yellow\" , label = \"Mode\")\n",
    "\n",
    "plt.legend()"
   ]
  },
  {
   "cell_type": "code",
   "execution_count": 20,
   "metadata": {},
   "outputs": [],
   "source": [
    "income = pd.Series([0,20,50,62,70,80,1000,1000])"
   ]
  },
  {
   "cell_type": "code",
   "execution_count": 21,
   "metadata": {},
   "outputs": [
    {
     "data": {
      "image/png": "[encoded data removed]",
      "text/plain": [
       "<Figure size 432x288 with 1 Axes>"
      ]
     },
     "metadata": {
      "needs_background": "light"
     },
     "output_type": "display_data"
    },
    {
     "data": {
      "text/plain": [
       "<matplotlib.legend.Legend at 0x1e9193fbee0>"
      ]
     },
     "execution_count": 21,
     "metadata": {},
     "output_type": "execute_result"
    },
    {
     "data": {
      "image/png": "[encoded data removed]",
      "text/plain": [
       "<Figure size 432x288 with 1 Axes>"
      ]
     },
     "metadata": {
      "needs_background": "light"
     },
     "output_type": "display_data"
    }
   ],
   "source": [
    "plt.boxplot(income)\n",
    "plt.show()\n",
    "\n",
    "income.plot.kde()\n",
    "plt.axvline(income.mean(), color = \"black\" , label = \"Mean\")\n",
    "plt.axvline(income.median(), color = \"red\" , label = \"Median\")\n",
    "plt.axvline(income.mode().mean(), color = \"yellow\" , label = \"Mode\")\n",
    "\n",
    "plt.legend()"
   ]
  },
  {
   "cell_type": "code",
   "execution_count": null,
   "metadata": {},
   "outputs": [],
   "source": []
  },
  {
   "cell_type": "code",
   "execution_count": null,
   "metadata": {},
   "outputs": [],
   "source": []
  }
 ],
 "metadata": {
  "kernelspec": {
   "display_name": "Python 3",
   "language": "python",
   "name": "python3"
  },
  "language_info": {
   "codemirror_mode": {
    "name": "ipython",
    "version": 3
   },
   "file_extension": ".py",
   "mimetype": "text/x-python",
   "name": "python",
   "nbconvert_exporter": "python",
   "pygments_lexer": "ipython3",
   "version": "3.8.5"
  }
 },
 "nbformat": 4,
 "nbformat_minor": 4
}
