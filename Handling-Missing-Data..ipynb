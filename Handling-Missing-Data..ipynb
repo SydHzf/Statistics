{
 "cells": [
  {
   "cell_type": "code",
   "execution_count": 1,
   "metadata": {},
   "outputs": [],
   "source": [
    "import numpy as np\n",
    "import pandas as pd\n",
    "import matplotlib.pyplot as plt\n",
    "import seaborn as sns"
   ]
  },
  {
   "cell_type": "code",
   "execution_count": 2,
   "metadata": {},
   "outputs": [],
   "source": [
    "mvc = pd.read_csv(\"nypd_mvc_2018.csv\")\n",
    "pd.options.display.max_columns = None"
   ]
  },
  {
   "cell_type": "code",
   "execution_count": 3,
   "metadata": {},
   "outputs": [
    {
     "data": {
      "text/html": [
       "<div>\n",
       "<style scoped>\n",
       "    .dataframe tbody tr th:only-of-type {\n",
       "        vertical-align: middle;\n",
       "    }\n",
       "\n",
       "    .dataframe tbody tr th {\n",
       "        vertical-align: top;\n",
       "    }\n",
       "\n",
       "    .dataframe thead th {\n",
       "        text-align: right;\n",
       "    }\n",
       "</style>\n",
       "<table border=\"1\" class=\"dataframe\">\n",
       "  <thead>\n",
       "    <tr style=\"text-align: right;\">\n",
       "      <th></th>\n",
       "      <th>unique_key</th>\n",
       "      <th>date</th>\n",
       "      <th>time</th>\n",
       "      <th>borough</th>\n",
       "      <th>location</th>\n",
       "      <th>on_street</th>\n",
       "      <th>cross_street</th>\n",
       "      <th>off_street</th>\n",
       "      <th>pedestrians_injured</th>\n",
       "      <th>cyclist_injured</th>\n",
       "      <th>motorist_injured</th>\n",
       "      <th>total_injured</th>\n",
       "      <th>pedestrians_killed</th>\n",
       "      <th>cyclist_killed</th>\n",
       "      <th>motorist_killed</th>\n",
       "      <th>total_killed</th>\n",
       "      <th>vehicle_1</th>\n",
       "      <th>vehicle_2</th>\n",
       "      <th>vehicle_3</th>\n",
       "      <th>vehicle_4</th>\n",
       "      <th>vehicle_5</th>\n",
       "      <th>cause_vehicle_1</th>\n",
       "      <th>cause_vehicle_2</th>\n",
       "      <th>cause_vehicle_3</th>\n",
       "      <th>cause_vehicle_4</th>\n",
       "      <th>cause_vehicle_5</th>\n",
       "    </tr>\n",
       "  </thead>\n",
       "  <tbody>\n",
       "    <tr>\n",
       "      <th>0</th>\n",
       "      <td>3869058</td>\n",
       "      <td>2018-03-23</td>\n",
       "      <td>21:40</td>\n",
       "      <td>MANHATTAN</td>\n",
       "      <td>(40.742832, -74.00771)</td>\n",
       "      <td>WEST 15 STREET</td>\n",
       "      <td>10 AVENUE</td>\n",
       "      <td>NaN</td>\n",
       "      <td>0</td>\n",
       "      <td>0</td>\n",
       "      <td>0</td>\n",
       "      <td>0.0</td>\n",
       "      <td>0</td>\n",
       "      <td>0</td>\n",
       "      <td>0</td>\n",
       "      <td>0.0</td>\n",
       "      <td>PASSENGER VEHICLE</td>\n",
       "      <td>NaN</td>\n",
       "      <td>NaN</td>\n",
       "      <td>NaN</td>\n",
       "      <td>NaN</td>\n",
       "      <td>Following Too Closely</td>\n",
       "      <td>Unspecified</td>\n",
       "      <td>NaN</td>\n",
       "      <td>NaN</td>\n",
       "      <td>NaN</td>\n",
       "    </tr>\n",
       "    <tr>\n",
       "      <th>1</th>\n",
       "      <td>3847947</td>\n",
       "      <td>2018-02-13</td>\n",
       "      <td>14:45</td>\n",
       "      <td>BROOKLYN</td>\n",
       "      <td>(40.623714, -73.99314)</td>\n",
       "      <td>16 AVENUE</td>\n",
       "      <td>62 STREET</td>\n",
       "      <td>NaN</td>\n",
       "      <td>0</td>\n",
       "      <td>0</td>\n",
       "      <td>0</td>\n",
       "      <td>0.0</td>\n",
       "      <td>0</td>\n",
       "      <td>0</td>\n",
       "      <td>0</td>\n",
       "      <td>0.0</td>\n",
       "      <td>SPORT UTILITY / STATION WAGON</td>\n",
       "      <td>DS</td>\n",
       "      <td>NaN</td>\n",
       "      <td>NaN</td>\n",
       "      <td>NaN</td>\n",
       "      <td>Backing Unsafely</td>\n",
       "      <td>Unspecified</td>\n",
       "      <td>NaN</td>\n",
       "      <td>NaN</td>\n",
       "      <td>NaN</td>\n",
       "    </tr>\n",
       "    <tr>\n",
       "      <th>2</th>\n",
       "      <td>3914294</td>\n",
       "      <td>2018-06-04</td>\n",
       "      <td>0:00</td>\n",
       "      <td>NaN</td>\n",
       "      <td>(40.591755, -73.9083)</td>\n",
       "      <td>BELT PARKWAY</td>\n",
       "      <td>NaN</td>\n",
       "      <td>NaN</td>\n",
       "      <td>0</td>\n",
       "      <td>0</td>\n",
       "      <td>1</td>\n",
       "      <td>1.0</td>\n",
       "      <td>0</td>\n",
       "      <td>0</td>\n",
       "      <td>0</td>\n",
       "      <td>0.0</td>\n",
       "      <td>Station Wagon/Sport Utility Vehicle</td>\n",
       "      <td>Sedan</td>\n",
       "      <td>NaN</td>\n",
       "      <td>NaN</td>\n",
       "      <td>NaN</td>\n",
       "      <td>Following Too Closely</td>\n",
       "      <td>Unspecified</td>\n",
       "      <td>NaN</td>\n",
       "      <td>NaN</td>\n",
       "      <td>NaN</td>\n",
       "    </tr>\n",
       "    <tr>\n",
       "      <th>3</th>\n",
       "      <td>3915069</td>\n",
       "      <td>2018-06-05</td>\n",
       "      <td>6:36</td>\n",
       "      <td>QUEENS</td>\n",
       "      <td>(40.73602, -73.87954)</td>\n",
       "      <td>GRAND AVENUE</td>\n",
       "      <td>VANLOON STREET</td>\n",
       "      <td>NaN</td>\n",
       "      <td>0</td>\n",
       "      <td>0</td>\n",
       "      <td>0</td>\n",
       "      <td>0.0</td>\n",
       "      <td>0</td>\n",
       "      <td>0</td>\n",
       "      <td>0</td>\n",
       "      <td>0.0</td>\n",
       "      <td>Sedan</td>\n",
       "      <td>Sedan</td>\n",
       "      <td>NaN</td>\n",
       "      <td>NaN</td>\n",
       "      <td>NaN</td>\n",
       "      <td>Glare</td>\n",
       "      <td>Passing Too Closely</td>\n",
       "      <td>NaN</td>\n",
       "      <td>NaN</td>\n",
       "      <td>NaN</td>\n",
       "    </tr>\n",
       "    <tr>\n",
       "      <th>4</th>\n",
       "      <td>3923123</td>\n",
       "      <td>2018-06-16</td>\n",
       "      <td>15:45</td>\n",
       "      <td>BRONX</td>\n",
       "      <td>(40.884727, -73.89945)</td>\n",
       "      <td>NaN</td>\n",
       "      <td>NaN</td>\n",
       "      <td>208       WEST 238 STREET</td>\n",
       "      <td>0</td>\n",
       "      <td>0</td>\n",
       "      <td>0</td>\n",
       "      <td>0.0</td>\n",
       "      <td>0</td>\n",
       "      <td>0</td>\n",
       "      <td>0</td>\n",
       "      <td>0.0</td>\n",
       "      <td>Station Wagon/Sport Utility Vehicle</td>\n",
       "      <td>Sedan</td>\n",
       "      <td>NaN</td>\n",
       "      <td>NaN</td>\n",
       "      <td>NaN</td>\n",
       "      <td>Turning Improperly</td>\n",
       "      <td>Unspecified</td>\n",
       "      <td>NaN</td>\n",
       "      <td>NaN</td>\n",
       "      <td>NaN</td>\n",
       "    </tr>\n",
       "  </tbody>\n",
       "</table>\n",
       "</div>"
      ],
      "text/plain": [
       "   unique_key        date   time    borough                location  \\\n",
       "0     3869058  2018-03-23  21:40  MANHATTAN  (40.742832, -74.00771)   \n",
       "1     3847947  2018-02-13  14:45   BROOKLYN  (40.623714, -73.99314)   \n",
       "2     3914294  2018-06-04   0:00        NaN   (40.591755, -73.9083)   \n",
       "3     3915069  2018-06-05   6:36     QUEENS   (40.73602, -73.87954)   \n",
       "4     3923123  2018-06-16  15:45      BRONX  (40.884727, -73.89945)   \n",
       "\n",
       "                          on_street    cross_street  \\\n",
       "0  WEST 15 STREET                         10 AVENUE   \n",
       "1  16 AVENUE                              62 STREET   \n",
       "2  BELT PARKWAY                                 NaN   \n",
       "3  GRAND AVENUE                      VANLOON STREET   \n",
       "4                               NaN             NaN   \n",
       "\n",
       "                                 off_street  pedestrians_injured  \\\n",
       "0                                       NaN                    0   \n",
       "1                                       NaN                    0   \n",
       "2                                       NaN                    0   \n",
       "3                                       NaN                    0   \n",
       "4  208       WEST 238 STREET                                   0   \n",
       "\n",
       "   cyclist_injured  motorist_injured  total_injured  pedestrians_killed  \\\n",
       "0                0                 0            0.0                   0   \n",
       "1                0                 0            0.0                   0   \n",
       "2                0                 1            1.0                   0   \n",
       "3                0                 0            0.0                   0   \n",
       "4                0                 0            0.0                   0   \n",
       "\n",
       "   cyclist_killed  motorist_killed  total_killed  \\\n",
       "0               0                0           0.0   \n",
       "1               0                0           0.0   \n",
       "2               0                0           0.0   \n",
       "3               0                0           0.0   \n",
       "4               0                0           0.0   \n",
       "\n",
       "                             vehicle_1 vehicle_2 vehicle_3 vehicle_4  \\\n",
       "0                    PASSENGER VEHICLE       NaN       NaN       NaN   \n",
       "1        SPORT UTILITY / STATION WAGON        DS       NaN       NaN   \n",
       "2  Station Wagon/Sport Utility Vehicle     Sedan       NaN       NaN   \n",
       "3                                Sedan     Sedan       NaN       NaN   \n",
       "4  Station Wagon/Sport Utility Vehicle     Sedan       NaN       NaN   \n",
       "\n",
       "  vehicle_5        cause_vehicle_1      cause_vehicle_2 cause_vehicle_3  \\\n",
       "0       NaN  Following Too Closely          Unspecified             NaN   \n",
       "1       NaN       Backing Unsafely          Unspecified             NaN   \n",
       "2       NaN  Following Too Closely          Unspecified             NaN   \n",
       "3       NaN                  Glare  Passing Too Closely             NaN   \n",
       "4       NaN     Turning Improperly          Unspecified             NaN   \n",
       "\n",
       "  cause_vehicle_4 cause_vehicle_5  \n",
       "0             NaN             NaN  \n",
       "1             NaN             NaN  \n",
       "2             NaN             NaN  \n",
       "3             NaN             NaN  \n",
       "4             NaN             NaN  "
      ]
     },
     "execution_count": 3,
     "metadata": {},
     "output_type": "execute_result"
    }
   ],
   "source": [
    "mvc.head()"
   ]
  },
  {
   "cell_type": "code",
   "execution_count": 4,
   "metadata": {},
   "outputs": [],
   "source": [
    "NaN = mvc.isnull().sum()"
   ]
  },
  {
   "cell_type": "code",
   "execution_count": 5,
   "metadata": {},
   "outputs": [],
   "source": [
    "missing = NaN*100/mvc.shape[0]\n",
    "missing = round(missing,2)"
   ]
  },
  {
   "cell_type": "code",
   "execution_count": 6,
   "metadata": {},
   "outputs": [],
   "source": [
    "miss_data = pd.DataFrame({\"Null_values\":NaN,\"Null_values_%\": missing}) "
   ]
  },
  {
   "cell_type": "code",
   "execution_count": 7,
   "metadata": {},
   "outputs": [
    {
     "data": {
      "text/html": [
       "<div>\n",
       "<style scoped>\n",
       "    .dataframe tbody tr th:only-of-type {\n",
       "        vertical-align: middle;\n",
       "    }\n",
       "\n",
       "    .dataframe tbody tr th {\n",
       "        vertical-align: top;\n",
       "    }\n",
       "\n",
       "    .dataframe thead th {\n",
       "        text-align: right;\n",
       "    }\n",
       "</style>\n",
       "<table border=\"1\" class=\"dataframe\">\n",
       "  <thead>\n",
       "    <tr style=\"text-align: right;\">\n",
       "      <th></th>\n",
       "      <th>Null_values</th>\n",
       "      <th>Null_values_%</th>\n",
       "    </tr>\n",
       "  </thead>\n",
       "  <tbody>\n",
       "    <tr>\n",
       "      <th>unique_key</th>\n",
       "      <td>0</td>\n",
       "      <td>0.00</td>\n",
       "    </tr>\n",
       "    <tr>\n",
       "      <th>date</th>\n",
       "      <td>0</td>\n",
       "      <td>0.00</td>\n",
       "    </tr>\n",
       "    <tr>\n",
       "      <th>time</th>\n",
       "      <td>0</td>\n",
       "      <td>0.00</td>\n",
       "    </tr>\n",
       "    <tr>\n",
       "      <th>borough</th>\n",
       "      <td>20646</td>\n",
       "      <td>35.68</td>\n",
       "    </tr>\n",
       "    <tr>\n",
       "      <th>location</th>\n",
       "      <td>3885</td>\n",
       "      <td>6.71</td>\n",
       "    </tr>\n",
       "    <tr>\n",
       "      <th>on_street</th>\n",
       "      <td>13961</td>\n",
       "      <td>24.13</td>\n",
       "    </tr>\n",
       "    <tr>\n",
       "      <th>cross_street</th>\n",
       "      <td>29249</td>\n",
       "      <td>50.55</td>\n",
       "    </tr>\n",
       "    <tr>\n",
       "      <th>off_street</th>\n",
       "      <td>44093</td>\n",
       "      <td>76.20</td>\n",
       "    </tr>\n",
       "    <tr>\n",
       "      <th>pedestrians_injured</th>\n",
       "      <td>0</td>\n",
       "      <td>0.00</td>\n",
       "    </tr>\n",
       "    <tr>\n",
       "      <th>cyclist_injured</th>\n",
       "      <td>0</td>\n",
       "      <td>0.00</td>\n",
       "    </tr>\n",
       "    <tr>\n",
       "      <th>motorist_injured</th>\n",
       "      <td>0</td>\n",
       "      <td>0.00</td>\n",
       "    </tr>\n",
       "    <tr>\n",
       "      <th>total_injured</th>\n",
       "      <td>1</td>\n",
       "      <td>0.00</td>\n",
       "    </tr>\n",
       "    <tr>\n",
       "      <th>pedestrians_killed</th>\n",
       "      <td>0</td>\n",
       "      <td>0.00</td>\n",
       "    </tr>\n",
       "    <tr>\n",
       "      <th>cyclist_killed</th>\n",
       "      <td>0</td>\n",
       "      <td>0.00</td>\n",
       "    </tr>\n",
       "    <tr>\n",
       "      <th>motorist_killed</th>\n",
       "      <td>0</td>\n",
       "      <td>0.00</td>\n",
       "    </tr>\n",
       "    <tr>\n",
       "      <th>total_killed</th>\n",
       "      <td>5</td>\n",
       "      <td>0.01</td>\n",
       "    </tr>\n",
       "    <tr>\n",
       "      <th>vehicle_1</th>\n",
       "      <td>355</td>\n",
       "      <td>0.61</td>\n",
       "    </tr>\n",
       "    <tr>\n",
       "      <th>vehicle_2</th>\n",
       "      <td>12262</td>\n",
       "      <td>21.19</td>\n",
       "    </tr>\n",
       "    <tr>\n",
       "      <th>vehicle_3</th>\n",
       "      <td>54352</td>\n",
       "      <td>93.93</td>\n",
       "    </tr>\n",
       "    <tr>\n",
       "      <th>vehicle_4</th>\n",
       "      <td>57158</td>\n",
       "      <td>98.78</td>\n",
       "    </tr>\n",
       "    <tr>\n",
       "      <th>vehicle_5</th>\n",
       "      <td>57681</td>\n",
       "      <td>99.68</td>\n",
       "    </tr>\n",
       "    <tr>\n",
       "      <th>cause_vehicle_1</th>\n",
       "      <td>175</td>\n",
       "      <td>0.30</td>\n",
       "    </tr>\n",
       "    <tr>\n",
       "      <th>cause_vehicle_2</th>\n",
       "      <td>8692</td>\n",
       "      <td>15.02</td>\n",
       "    </tr>\n",
       "    <tr>\n",
       "      <th>cause_vehicle_3</th>\n",
       "      <td>54134</td>\n",
       "      <td>93.55</td>\n",
       "    </tr>\n",
       "    <tr>\n",
       "      <th>cause_vehicle_4</th>\n",
       "      <td>57111</td>\n",
       "      <td>98.70</td>\n",
       "    </tr>\n",
       "    <tr>\n",
       "      <th>cause_vehicle_5</th>\n",
       "      <td>57671</td>\n",
       "      <td>99.67</td>\n",
       "    </tr>\n",
       "  </tbody>\n",
       "</table>\n",
       "</div>"
      ],
      "text/plain": [
       "                     Null_values  Null_values_%\n",
       "unique_key                     0           0.00\n",
       "date                           0           0.00\n",
       "time                           0           0.00\n",
       "borough                    20646          35.68\n",
       "location                    3885           6.71\n",
       "on_street                  13961          24.13\n",
       "cross_street               29249          50.55\n",
       "off_street                 44093          76.20\n",
       "pedestrians_injured            0           0.00\n",
       "cyclist_injured                0           0.00\n",
       "motorist_injured               0           0.00\n",
       "total_injured                  1           0.00\n",
       "pedestrians_killed             0           0.00\n",
       "cyclist_killed                 0           0.00\n",
       "motorist_killed                0           0.00\n",
       "total_killed                   5           0.01\n",
       "vehicle_1                    355           0.61\n",
       "vehicle_2                  12262          21.19\n",
       "vehicle_3                  54352          93.93\n",
       "vehicle_4                  57158          98.78\n",
       "vehicle_5                  57681          99.68\n",
       "cause_vehicle_1              175           0.30\n",
       "cause_vehicle_2             8692          15.02\n",
       "cause_vehicle_3            54134          93.55\n",
       "cause_vehicle_4            57111          98.70\n",
       "cause_vehicle_5            57671          99.67"
      ]
     },
     "execution_count": 7,
     "metadata": {},
     "output_type": "execute_result"
    }
   ],
   "source": [
    "miss_data"
   ]
  },
  {
   "cell_type": "code",
   "execution_count": 8,
   "metadata": {},
   "outputs": [],
   "source": [
    "col_name = [col for col in mvc.columns if \"injure\" in col]"
   ]
  },
  {
   "cell_type": "code",
   "execution_count": 9,
   "metadata": {},
   "outputs": [
    {
     "data": {
      "text/plain": [
       "['pedestrians_injured', 'cyclist_injured', 'motorist_injured', 'total_injured']"
      ]
     },
     "execution_count": 9,
     "metadata": {},
     "output_type": "execute_result"
    }
   ],
   "source": [
    "col_name"
   ]
  },
  {
   "cell_type": "code",
   "execution_count": 10,
   "metadata": {},
   "outputs": [],
   "source": [
    "injured = mvc[col_name].copy()"
   ]
  },
  {
   "cell_type": "code",
   "execution_count": 11,
   "metadata": {},
   "outputs": [
    {
     "data": {
      "text/html": [
       "<div>\n",
       "<style scoped>\n",
       "    .dataframe tbody tr th:only-of-type {\n",
       "        vertical-align: middle;\n",
       "    }\n",
       "\n",
       "    .dataframe tbody tr th {\n",
       "        vertical-align: top;\n",
       "    }\n",
       "\n",
       "    .dataframe thead th {\n",
       "        text-align: right;\n",
       "    }\n",
       "</style>\n",
       "<table border=\"1\" class=\"dataframe\">\n",
       "  <thead>\n",
       "    <tr style=\"text-align: right;\">\n",
       "      <th></th>\n",
       "      <th>pedestrians_injured</th>\n",
       "      <th>cyclist_injured</th>\n",
       "      <th>motorist_injured</th>\n",
       "      <th>total_injured</th>\n",
       "    </tr>\n",
       "  </thead>\n",
       "  <tbody>\n",
       "    <tr>\n",
       "      <th>0</th>\n",
       "      <td>0</td>\n",
       "      <td>0</td>\n",
       "      <td>0</td>\n",
       "      <td>0.0</td>\n",
       "    </tr>\n",
       "    <tr>\n",
       "      <th>1</th>\n",
       "      <td>0</td>\n",
       "      <td>0</td>\n",
       "      <td>0</td>\n",
       "      <td>0.0</td>\n",
       "    </tr>\n",
       "    <tr>\n",
       "      <th>2</th>\n",
       "      <td>0</td>\n",
       "      <td>0</td>\n",
       "      <td>1</td>\n",
       "      <td>1.0</td>\n",
       "    </tr>\n",
       "    <tr>\n",
       "      <th>3</th>\n",
       "      <td>0</td>\n",
       "      <td>0</td>\n",
       "      <td>0</td>\n",
       "      <td>0.0</td>\n",
       "    </tr>\n",
       "    <tr>\n",
       "      <th>4</th>\n",
       "      <td>0</td>\n",
       "      <td>0</td>\n",
       "      <td>0</td>\n",
       "      <td>0.0</td>\n",
       "    </tr>\n",
       "  </tbody>\n",
       "</table>\n",
       "</div>"
      ],
      "text/plain": [
       "   pedestrians_injured  cyclist_injured  motorist_injured  total_injured\n",
       "0                    0                0                 0            0.0\n",
       "1                    0                0                 0            0.0\n",
       "2                    0                0                 1            1.0\n",
       "3                    0                0                 0            0.0\n",
       "4                    0                0                 0            0.0"
      ]
     },
     "execution_count": 11,
     "metadata": {},
     "output_type": "execute_result"
    }
   ],
   "source": [
    "injured.head()"
   ]
  },
  {
   "cell_type": "code",
   "execution_count": 12,
   "metadata": {},
   "outputs": [],
   "source": [
    "injured_manual_sum = injured[col_name[:-1]].sum(axis = 1)"
   ]
  },
  {
   "cell_type": "code",
   "execution_count": 13,
   "metadata": {},
   "outputs": [
    {
     "data": {
      "text/plain": [
       "0        0\n",
       "1        0\n",
       "2        1\n",
       "3        0\n",
       "4        0\n",
       "        ..\n",
       "57859    3\n",
       "57860    0\n",
       "57861    1\n",
       "57862    0\n",
       "57863    0\n",
       "Length: 57864, dtype: int64"
      ]
     },
     "execution_count": 13,
     "metadata": {},
     "output_type": "execute_result"
    }
   ],
   "source": [
    "injured_manual_sum"
   ]
  },
  {
   "cell_type": "code",
   "execution_count": 14,
   "metadata": {},
   "outputs": [
    {
     "data": {
      "text/plain": [
       "0        False\n",
       "1        False\n",
       "2        False\n",
       "3        False\n",
       "4        False\n",
       "         ...  \n",
       "57859    False\n",
       "57860    False\n",
       "57861    False\n",
       "57862    False\n",
       "57863    False\n",
       "Length: 57864, dtype: bool"
      ]
     },
     "execution_count": 14,
     "metadata": {},
     "output_type": "execute_result"
    }
   ],
   "source": [
    "mask = injured[\"total_injured\"] != injured_manual_sum\n",
    "mask"
   ]
  },
  {
   "cell_type": "code",
   "execution_count": 15,
   "metadata": {},
   "outputs": [
    {
     "data": {
      "text/plain": [
       "0        0.0\n",
       "1        0.0\n",
       "2        1.0\n",
       "3        0.0\n",
       "4        0.0\n",
       "        ... \n",
       "57859    3.0\n",
       "57860    0.0\n",
       "57861    1.0\n",
       "57862    0.0\n",
       "57863    0.0\n",
       "Name: total_injured, Length: 57864, dtype: float64"
      ]
     },
     "execution_count": 15,
     "metadata": {},
     "output_type": "execute_result"
    }
   ],
   "source": [
    "injured[\"total_injured\"].mask(mask,injured_manual_sum)\n",
    "# mask variable mai true dhond kr total_injured mai injured_manual_sum wali\n",
    "#value sy replace kr lyga"
   ]
  },
  {
   "cell_type": "code",
   "execution_count": 19,
   "metadata": {},
   "outputs": [
    {
     "data": {
      "text/html": [
       "<div>\n",
       "<style scoped>\n",
       "    .dataframe tbody tr th:only-of-type {\n",
       "        vertical-align: middle;\n",
       "    }\n",
       "\n",
       "    .dataframe tbody tr th {\n",
       "        vertical-align: top;\n",
       "    }\n",
       "\n",
       "    .dataframe thead th {\n",
       "        text-align: right;\n",
       "    }\n",
       "</style>\n",
       "<table border=\"1\" class=\"dataframe\">\n",
       "  <thead>\n",
       "    <tr style=\"text-align: right;\">\n",
       "      <th></th>\n",
       "      <th>pedestrians_injured</th>\n",
       "      <th>cyclist_injured</th>\n",
       "      <th>motorist_injured</th>\n",
       "      <th>total_injured</th>\n",
       "    </tr>\n",
       "  </thead>\n",
       "  <tbody>\n",
       "    <tr>\n",
       "      <th>55699</th>\n",
       "      <td>0</td>\n",
       "      <td>0</td>\n",
       "      <td>1</td>\n",
       "      <td>NaN</td>\n",
       "    </tr>\n",
       "  </tbody>\n",
       "</table>\n",
       "</div>"
      ],
      "text/plain": [
       "       pedestrians_injured  cyclist_injured  motorist_injured  total_injured\n",
       "55699                    0                0                 1            NaN"
      ]
     },
     "execution_count": 19,
     "metadata": {},
     "output_type": "execute_result"
    }
   ],
   "source": [
    "injured[injured['total_injured'].isnull()]"
   ]
  },
  {
   "cell_type": "code",
   "execution_count": 20,
   "metadata": {},
   "outputs": [],
   "source": [
    "col_name = [col for col in mvc.columns if \"killed\" in col]"
   ]
  },
  {
   "cell_type": "code",
   "execution_count": 21,
   "metadata": {},
   "outputs": [
    {
     "data": {
      "text/plain": [
       "['pedestrians_killed', 'cyclist_killed', 'motorist_killed', 'total_killed']"
      ]
     },
     "execution_count": 21,
     "metadata": {},
     "output_type": "execute_result"
    }
   ],
   "source": [
    "col_name"
   ]
  },
  {
   "cell_type": "code",
   "execution_count": 22,
   "metadata": {},
   "outputs": [],
   "source": [
    "killed = mvc[col_name].copy()"
   ]
  },
  {
   "cell_type": "code",
   "execution_count": 23,
   "metadata": {},
   "outputs": [
    {
     "data": {
      "text/html": [
       "<div>\n",
       "<style scoped>\n",
       "    .dataframe tbody tr th:only-of-type {\n",
       "        vertical-align: middle;\n",
       "    }\n",
       "\n",
       "    .dataframe tbody tr th {\n",
       "        vertical-align: top;\n",
       "    }\n",
       "\n",
       "    .dataframe thead th {\n",
       "        text-align: right;\n",
       "    }\n",
       "</style>\n",
       "<table border=\"1\" class=\"dataframe\">\n",
       "  <thead>\n",
       "    <tr style=\"text-align: right;\">\n",
       "      <th></th>\n",
       "      <th>pedestrians_killed</th>\n",
       "      <th>cyclist_killed</th>\n",
       "      <th>motorist_killed</th>\n",
       "      <th>total_killed</th>\n",
       "    </tr>\n",
       "  </thead>\n",
       "  <tbody>\n",
       "    <tr>\n",
       "      <th>0</th>\n",
       "      <td>0</td>\n",
       "      <td>0</td>\n",
       "      <td>0</td>\n",
       "      <td>0.0</td>\n",
       "    </tr>\n",
       "    <tr>\n",
       "      <th>1</th>\n",
       "      <td>0</td>\n",
       "      <td>0</td>\n",
       "      <td>0</td>\n",
       "      <td>0.0</td>\n",
       "    </tr>\n",
       "    <tr>\n",
       "      <th>2</th>\n",
       "      <td>0</td>\n",
       "      <td>0</td>\n",
       "      <td>0</td>\n",
       "      <td>0.0</td>\n",
       "    </tr>\n",
       "    <tr>\n",
       "      <th>3</th>\n",
       "      <td>0</td>\n",
       "      <td>0</td>\n",
       "      <td>0</td>\n",
       "      <td>0.0</td>\n",
       "    </tr>\n",
       "    <tr>\n",
       "      <th>4</th>\n",
       "      <td>0</td>\n",
       "      <td>0</td>\n",
       "      <td>0</td>\n",
       "      <td>0.0</td>\n",
       "    </tr>\n",
       "  </tbody>\n",
       "</table>\n",
       "</div>"
      ],
      "text/plain": [
       "   pedestrians_killed  cyclist_killed  motorist_killed  total_killed\n",
       "0                   0               0                0           0.0\n",
       "1                   0               0                0           0.0\n",
       "2                   0               0                0           0.0\n",
       "3                   0               0                0           0.0\n",
       "4                   0               0                0           0.0"
      ]
     },
     "execution_count": 23,
     "metadata": {},
     "output_type": "execute_result"
    }
   ],
   "source": [
    "killed.head()"
   ]
  },
  {
   "cell_type": "code",
   "execution_count": 24,
   "metadata": {},
   "outputs": [],
   "source": [
    "killed_manual_sum = killed[col_name[:-1]].sum(axis = 1)"
   ]
  },
  {
   "cell_type": "code",
   "execution_count": 25,
   "metadata": {},
   "outputs": [
    {
     "data": {
      "text/plain": [
       "0        0\n",
       "1        0\n",
       "2        0\n",
       "3        0\n",
       "4        0\n",
       "        ..\n",
       "57859    0\n",
       "57860    0\n",
       "57861    0\n",
       "57862    0\n",
       "57863    0\n",
       "Length: 57864, dtype: int64"
      ]
     },
     "execution_count": 25,
     "metadata": {},
     "output_type": "execute_result"
    }
   ],
   "source": [
    "killed_manual_sum"
   ]
  },
  {
   "cell_type": "code",
   "execution_count": 26,
   "metadata": {},
   "outputs": [
    {
     "data": {
      "text/plain": [
       "0        False\n",
       "1        False\n",
       "2        False\n",
       "3        False\n",
       "4        False\n",
       "         ...  \n",
       "57859    False\n",
       "57860    False\n",
       "57861    False\n",
       "57862    False\n",
       "57863    False\n",
       "Length: 57864, dtype: bool"
      ]
     },
     "execution_count": 26,
     "metadata": {},
     "output_type": "execute_result"
    }
   ],
   "source": [
    "mask = killed[\"total_killed\"] != killed_manual_sum\n",
    "mask"
   ]
  },
  {
   "cell_type": "code",
   "execution_count": 30,
   "metadata": {},
   "outputs": [],
   "source": [
    "killed[\"total_killed\"] = killed[\"total_killed\"].mask(mask,killed_manual_sum)\n",
    "# mask variable mai true dhond kr total_injured mai injured_manual_sum wali\n",
    "#value sy replace kr lyga"
   ]
  },
  {
   "cell_type": "code",
   "execution_count": 31,
   "metadata": {},
   "outputs": [
    {
     "data": {
      "text/plain": [
       "0"
      ]
     },
     "execution_count": 31,
     "metadata": {},
     "output_type": "execute_result"
    }
   ],
   "source": [
    "killed[\"total_killed\"].isnull().sum()"
   ]
  },
  {
   "cell_type": "code",
   "execution_count": 32,
   "metadata": {},
   "outputs": [
    {
     "data": {
      "text/html": [
       "<div>\n",
       "<style scoped>\n",
       "    .dataframe tbody tr th:only-of-type {\n",
       "        vertical-align: middle;\n",
       "    }\n",
       "\n",
       "    .dataframe tbody tr th {\n",
       "        vertical-align: top;\n",
       "    }\n",
       "\n",
       "    .dataframe thead th {\n",
       "        text-align: right;\n",
       "    }\n",
       "</style>\n",
       "<table border=\"1\" class=\"dataframe\">\n",
       "  <thead>\n",
       "    <tr style=\"text-align: right;\">\n",
       "      <th></th>\n",
       "      <th>pedestrians_killed</th>\n",
       "      <th>cyclist_killed</th>\n",
       "      <th>motorist_killed</th>\n",
       "      <th>total_killed</th>\n",
       "    </tr>\n",
       "  </thead>\n",
       "  <tbody>\n",
       "  </tbody>\n",
       "</table>\n",
       "</div>"
      ],
      "text/plain": [
       "Empty DataFrame\n",
       "Columns: [pedestrians_killed, cyclist_killed, motorist_killed, total_killed]\n",
       "Index: []"
      ]
     },
     "execution_count": 32,
     "metadata": {},
     "output_type": "execute_result"
    }
   ],
   "source": [
    "killed[killed[\"total_killed\"].isnull()]"
   ]
  },
  {
   "cell_type": "code",
   "execution_count": 36,
   "metadata": {},
   "outputs": [
    {
     "data": {
      "text/plain": [
       "<Figure size 1296x1080 with 0 Axes>"
      ]
     },
     "metadata": {},
     "output_type": "display_data"
    }
   ],
   "source": [
    "fig = plt.figure(figsize = (18,15))\n",
    "\n"
   ]
  },
  {
   "cell_type": "code",
   "execution_count": 46,
   "metadata": {},
   "outputs": [
    {
     "data": {
      "text/plain": [
       "unique_key             False\n",
       "date                   False\n",
       "time                   False\n",
       "borough                 True\n",
       "location                True\n",
       "on_street               True\n",
       "cross_street            True\n",
       "off_street              True\n",
       "pedestrians_injured    False\n",
       "cyclist_injured        False\n",
       "motorist_injured       False\n",
       "total_injured           True\n",
       "pedestrians_killed     False\n",
       "cyclist_killed         False\n",
       "motorist_killed        False\n",
       "total_killed            True\n",
       "vehicle_1               True\n",
       "vehicle_2               True\n",
       "vehicle_3               True\n",
       "vehicle_4               True\n",
       "vehicle_5               True\n",
       "cause_vehicle_1         True\n",
       "cause_vehicle_2         True\n",
       "cause_vehicle_3         True\n",
       "cause_vehicle_4         True\n",
       "cause_vehicle_5         True\n",
       "dtype: bool"
      ]
     },
     "execution_count": 46,
     "metadata": {},
     "output_type": "execute_result"
    }
   ],
   "source": [
    "mvc.isnull().sum() > 0"
   ]
  },
  {
   "cell_type": "code",
   "execution_count": 47,
   "metadata": {},
   "outputs": [],
   "source": [
    "missing_cols = mvc.columns[mvc.isnull().sum() > 0]"
   ]
  },
  {
   "cell_type": "code",
   "execution_count": 52,
   "metadata": {},
   "outputs": [],
   "source": [
    "def plot_null_matrix(df,figsize = (18,14)):\n",
    "    fig = plt.figure(figsize = figsize)\n",
    "    sns.heatmap(mvc.isnull(), cbar = False )\n",
    "    plt.xticks(rotation = 90 , size = \"x-large\")\n",
    "    plt.show()"
   ]
  },
  {
   "cell_type": "code",
   "execution_count": 53,
   "metadata": {},
   "outputs": [
    {
     "data": {
      "image/png": "[encoded data removed]",
      "text/plain": [
       "<Figure size 1296x1008 with 1 Axes>"
      ]
     },
     "metadata": {
      "needs_background": "light"
     },
     "output_type": "display_data"
    }
   ],
   "source": [
    "plot_null_matrix(missing_cols)"
   ]
  },
  {
   "cell_type": "code",
   "execution_count": null,
   "metadata": {},
   "outputs": [],
   "source": []
  }
 ],
 "metadata": {
  "kernelspec": {
   "display_name": "Python 3",
   "language": "python",
   "name": "python3"
  },
  "language_info": {
   "codemirror_mode": {
    "name": "ipython",
    "version": 3
   },
   "file_extension": ".py",
   "mimetype": "text/x-python",
   "name": "python",
   "nbconvert_exporter": "python",
   "pygments_lexer": "ipython3",
   "version": "3.8.5"
  }
 },
 "nbformat": 4,
 "nbformat_minor": 4
}
